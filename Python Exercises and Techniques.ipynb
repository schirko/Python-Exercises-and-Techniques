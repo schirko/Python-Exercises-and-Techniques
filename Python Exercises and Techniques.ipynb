{
 "cells": [
  {
   "cell_type": "markdown",
   "id": "83523f4f",
   "metadata": {},
   "source": [
    "<h1><center>Python Exercises and Techniques</h1></center>\n",
    "\n",
    "<b>Purpose:</b> This living document is meant to service as a learning tool."
   ]
  },
  {
   "cell_type": "markdown",
   "id": "d716a073",
   "metadata": {},
   "source": [
    "## Python's four built-in data sctructures\n",
    "Lets explore lists, dictionaries, tuples, and sets."
   ]
  },
  {
   "cell_type": "markdown",
   "id": "f009ba73",
   "metadata": {},
   "source": [
    "### Lists\n",
    "Lists are ordered, muteable, and allow duplicates.\n",
    "<ul>\n",
    "<li>Ordered sequences of elements that can contain elements of\n",
    "different data types, including other lists.</li>\n",
    "<li>Are mutable, which means you can add, remove, or modify\n",
    "elements after the list has been created.</li>\n",
    "<li>Provide various built-in methods for manipulation and iteration,\n",
    "making them a versatile and convenient data structure in\n",
    "Python.</li>\n",
    "</ul>"
   ]
  },
  {
   "cell_type": "code",
   "execution_count": 1,
   "id": "15e60c1b",
   "metadata": {},
   "outputs": [
    {
     "name": "stdout",
     "output_type": "stream",
     "text": [
      "['apple', 'banana', 'cherry', 'apple', 'cherry']\n"
     ]
    }
   ],
   "source": [
    "fruit_list = [\"apple\", \"banana\", \"cherry\", \"apple\", \"cherry\"]\n",
    "print(fruit_list)"
   ]
  },
  {
   "cell_type": "markdown",
   "id": "7fe08f51",
   "metadata": {},
   "source": [
    "We can append to them."
   ]
  },
  {
   "cell_type": "code",
   "execution_count": 2,
   "id": "c0f6ff2e",
   "metadata": {},
   "outputs": [
    {
     "name": "stdout",
     "output_type": "stream",
     "text": [
      "['apple', 'banana', 'cherry', 'apple', 'cherry', 'peach']\n"
     ]
    }
   ],
   "source": [
    "fruit_list.append(\"peach\")\n",
    "print(fruit_list)"
   ]
  },
  {
   "cell_type": "markdown",
   "id": "f7aa767f",
   "metadata": {},
   "source": [
    "#### Creating lists"
   ]
  },
  {
   "cell_type": "markdown",
   "id": "f5aa9b6b",
   "metadata": {},
   "source": [
    "Creating lists is very easy. We can using rounded brackets to manually code a list."
   ]
  },
  {
   "cell_type": "code",
   "execution_count": 3,
   "id": "7a9ecde1",
   "metadata": {},
   "outputs": [
    {
     "name": "stdout",
     "output_type": "stream",
     "text": [
      "('Apples', 'Oranges', 'Pears')\n"
     ]
    }
   ],
   "source": [
    "fruit = ('Apples', 'Oranges', 'Pears')\n",
    "print(fruit)"
   ]
  },
  {
   "cell_type": "markdown",
   "id": "702147d0",
   "metadata": {},
   "source": [
    "Or we can use the list() and append() methods to initiate a list and then append to it."
   ]
  },
  {
   "cell_type": "code",
   "execution_count": 4,
   "id": "14034822",
   "metadata": {},
   "outputs": [
    {
     "name": "stdout",
     "output_type": "stream",
     "text": [
      "['Apples', 'Oranges', 'Pears']\n"
     ]
    }
   ],
   "source": [
    "fruit = list()\n",
    "fruit.append('Apples')\n",
    "fruit.append('Oranges')\n",
    "fruit.append('Pears')\n",
    "print(fruit)"
   ]
  },
  {
   "cell_type": "markdown",
   "id": "931f7723",
   "metadata": {},
   "source": [
    "#### String also work well with lists"
   ]
  },
  {
   "cell_type": "markdown",
   "id": "2ffe643b",
   "metadata": {},
   "source": [
    "We can use the split() function on a string to break it up into a list.  Then we can use len() to give us the length of the list."
   ]
  },
  {
   "cell_type": "code",
   "execution_count": 5,
   "id": "8df117d2",
   "metadata": {},
   "outputs": [
    {
     "name": "stdout",
     "output_type": "stream",
     "text": [
      "['Colorado', 'is', 'a', 'great', 'state.']\n",
      "26\n"
     ]
    }
   ],
   "source": [
    "sentence = 'Colorado is a great state.'\n",
    "sentence_words = sentence.split()\n",
    "print(sentence_words)\n",
    "print(len(sentence))"
   ]
  },
  {
   "cell_type": "markdown",
   "id": "daa6ce36",
   "metadata": {},
   "source": [
    "#### Adding an index to a list\n",
    "We can loop through a list but it doesn't provide us an index. There may be times where we need to add an index, in those cases we can use enumerate()."
   ]
  },
  {
   "cell_type": "code",
   "execution_count": 6,
   "id": "06189846",
   "metadata": {},
   "outputs": [
    {
     "name": "stdout",
     "output_type": "stream",
     "text": [
      "0 Fishing In Canada\n",
      "1 Relax In Puerto Vallarta\n",
      "2 Golf In San Diego\n",
      "3 Stay At Home\n"
     ]
    }
   ],
   "source": [
    "vacation_ideas_list = [\n",
    "\"Fishing in Canada\",\n",
    "\"Relax in Puerto Vallarta\",\n",
    "\"Golf in San Diego\",\n",
    "\"Stay at home\",\n",
    "]\n",
    "\n",
    "#loop over thing and index\n",
    "for i, idea in enumerate (vacation_ideas_list):\n",
    "    print(i, idea.title())"
   ]
  },
  {
   "cell_type": "markdown",
   "id": "df2e100d",
   "metadata": {},
   "source": [
    "#### Combining Lists\n",
    "The best way to combine lists is to use the extend() method."
   ]
  },
  {
   "cell_type": "code",
   "execution_count": 7,
   "id": "cede1a4f",
   "metadata": {},
   "outputs": [
    {
     "name": "stdout",
     "output_type": "stream",
     "text": [
      "[1, 2, 3, 'a', 'b', 'c']\n"
     ]
    }
   ],
   "source": [
    "list_a= [1, 2, 3]\n",
    "list_b = ['a', 'b', 'c']\n",
    "list_a.extend(list_b)\n",
    "print(list_a)"
   ]
  },
  {
   "cell_type": "code",
   "execution_count": 8,
   "id": "3ccbe9ea",
   "metadata": {},
   "outputs": [
    {
     "name": "stdout",
     "output_type": "stream",
     "text": [
      "['Crimson Sword', 'Great Helm', 'Leather Boots', 'Health Potion', 'Mana Potion', 'Map of Riches']\n"
     ]
    }
   ],
   "source": [
    "inventory = [\n",
    "'Crimson Sword',\n",
    "'Great Helm',\n",
    "'Leather Boots'\n",
    "]\n",
    "chest = [\n",
    "'Health Potion',\n",
    "'Mana Potion',\n",
    "'Map of Riches'\n",
    "]\n",
    "inventory.extend(chest)\n",
    "print(inventory)"
   ]
  },
  {
   "cell_type": "markdown",
   "id": "0ad456cd",
   "metadata": {},
   "source": [
    "#### Map()\n",
    "Using map() return a map object(which is an iterator) of the results after applying the given function to each item of a given iterable (list, tuple etc.)"
   ]
  },
  {
   "cell_type": "code",
   "execution_count": 9,
   "id": "1fae2b48",
   "metadata": {},
   "outputs": [
    {
     "name": "stdout",
     "output_type": "stream",
     "text": [
      "<map object at 0x0000021C6427FD90>\n"
     ]
    }
   ],
   "source": [
    "citizens = [('Steve', 10), ('Mark', 8), ('Chris', 19)]\n",
    "def tax(citizen):\n",
    "    name = citizen[0]\n",
    "    taxed_balance = citizen [1] *0.93\n",
    "    return (name, taxed_balance)\n",
    "taxed_citizens = map(tax, citizens)\n",
    "print(taxed_citizens)"
   ]
  },
  {
   "cell_type": "markdown",
   "id": "26fb1161",
   "metadata": {},
   "source": [
    "We can change it back to a list by adding back in \"list\"."
   ]
  },
  {
   "cell_type": "code",
   "execution_count": 10,
   "id": "57b96c04",
   "metadata": {},
   "outputs": [
    {
     "name": "stdout",
     "output_type": "stream",
     "text": [
      "[('Steve', 9.3), ('Mark', 7.44), ('Chris', 17.67)]\n"
     ]
    }
   ],
   "source": [
    "citizens = [('Steve', 10), ('Mark', 8), ('Chris', 19)]\n",
    "def tax(citizen):\n",
    "    name = citizen[0]\n",
    "    taxed_balance = citizen [1] *0.93\n",
    "    return (name, taxed_balance)\n",
    "taxed_citizens = list(map(tax, citizens))\n",
    "print(taxed_citizens)"
   ]
  },
  {
   "cell_type": "code",
   "execution_count": null,
   "id": "78fceebc",
   "metadata": {},
   "outputs": [],
   "source": []
  },
  {
   "cell_type": "markdown",
   "id": "f56d4254",
   "metadata": {},
   "source": [
    "#### Looping through a list\n",
    "To loop through a list and print out it's associated slot, we can use enumerate() "
   ]
  },
  {
   "cell_type": "code",
   "execution_count": 11,
   "id": "73c9bd54",
   "metadata": {},
   "outputs": [
    {
     "name": "stdout",
     "output_type": "stream",
     "text": [
      "0: sword\n",
      "1: shield\n",
      "2: potion\n"
     ]
    }
   ],
   "source": [
    "# Create a list\n",
    "inventory = ['sword', 'shield', 'potion']\n",
    "\n",
    "# Loop through the list and print out the itmes\n",
    "for slot, item in enumerate(inventory):\n",
    "    print(f\"{slot}: {item}\")"
   ]
  },
  {
   "cell_type": "markdown",
   "id": "86cc3148",
   "metadata": {},
   "source": [
    "### Dictionary\n",
    "Dictionaries are used to store data values in key:value pairs. JUst like with lists, you can select, update, and reemove with square brackets [].\n",
    "\n",
    "A dictionary is a collection which are ordered*, changeable and do not allow duplicates. As of Python version 3.7, dictionaries are ordered. In Python 3.6 and earlier, dictionaries are unordered.\n",
    "\n",
    "<ul>\n",
    "<li>Are unordered collections of key-value pairs, where each key maps to a unique value.</li>\n",
    "<li>Duplicates are not allowed.</li>\n",
    "<li>Are mutable, which means you can add, remove, or modify key value pairs after the dictionary has been created.</li>\n",
    "<li>Are implemented as hash tables, making them highly efficient for lookups and updates.</li>\n",
    "</ul>"
   ]
  },
  {
   "cell_type": "code",
   "execution_count": 12,
   "id": "fe2f377d",
   "metadata": {},
   "outputs": [],
   "source": [
    "nba_players = {'name': 'Larry Bird', 'age': 66, 'city': 'Boston'}"
   ]
  },
  {
   "cell_type": "markdown",
   "id": "1dde2bc6",
   "metadata": {},
   "source": [
    "You can access each value by providing the key."
   ]
  },
  {
   "cell_type": "code",
   "execution_count": 13,
   "id": "f8963520",
   "metadata": {},
   "outputs": [
    {
     "name": "stdout",
     "output_type": "stream",
     "text": [
      "Original dictionary is : {'name': 'Larry Bird', 'age': 66, 'city': 'Boston'}\n"
     ]
    }
   ],
   "source": [
    "nba_players['name']\n",
    "\n",
    "# Printing dictionary\n",
    "print(\"Original dictionary is : \" + str(nba_players))"
   ]
  },
  {
   "cell_type": "markdown",
   "id": "8580ec57",
   "metadata": {},
   "source": [
    "Next we look at a dictionary using a for loop."
   ]
  },
  {
   "cell_type": "code",
   "execution_count": 14,
   "id": "2a80b310",
   "metadata": {},
   "outputs": [
    {
     "name": "stdout",
     "output_type": "stream",
     "text": [
      "apple\n",
      "banana\n",
      "orange\n"
     ]
    }
   ],
   "source": [
    "my_fruit_dict = {'apple': 1, 'banana': 2, 'orange': 3}\n",
    "\n",
    "# Loop through the keys of the dictionary\n",
    "for key in my_fruit_dict:\n",
    "    print(key)"
   ]
  },
  {
   "cell_type": "markdown",
   "id": "5d3f2d20",
   "metadata": {},
   "source": [
    "#### Dictionary Comprehension\n",
    "We can create a dictionary with indexes from a list using dictionary comprehension"
   ]
  },
  {
   "cell_type": "code",
   "execution_count": 15,
   "id": "60de01d1",
   "metadata": {},
   "outputs": [
    {
     "name": "stdout",
     "output_type": "stream",
     "text": [
      "{'Daniel': 6, 'Mike': 4, 'William': 7}\n"
     ]
    }
   ],
   "source": [
    "names = [\n",
    "    'Daniel',\n",
    "    'Mike',\n",
    "    'William'\n",
    "]\n",
    "\n",
    "# Dictionary Comprehension\n",
    "length = {name: len (name) for name in names}\n",
    "print (length)"
   ]
  },
  {
   "cell_type": "markdown",
   "id": "7ec25071",
   "metadata": {},
   "source": [
    "#### Using get() on a dictionary\n",
    "The following code to print the key 'class' works unless we call a key that doesn't exist."
   ]
  },
  {
   "cell_type": "code",
   "execution_count": 16,
   "id": "635d30c4",
   "metadata": {},
   "outputs": [
    {
     "name": "stdout",
     "output_type": "stream",
     "text": [
      "Welder\n"
     ]
    }
   ],
   "source": [
    "user = {\n",
    "    'name': 'Jimbo',\n",
    "    'class': 'Welder',\n",
    "    'strength' : 97,\n",
    "    'health': 100\n",
    "}\n",
    "\n",
    "x = user['class']\n",
    "print (x)"
   ]
  },
  {
   "cell_type": "markdown",
   "id": "acf22028",
   "metadata": {},
   "source": [
    "So, we can use get() to the key/value and if the kay doesn't exist it will just return NONE."
   ]
  },
  {
   "cell_type": "code",
   "execution_count": 17,
   "id": "89e8969c",
   "metadata": {},
   "outputs": [
    {
     "name": "stdout",
     "output_type": "stream",
     "text": [
      "Welder\n"
     ]
    }
   ],
   "source": [
    "# Create dictionary\n",
    "user = {\n",
    "    'name': 'Jimbo',\n",
    "    'class': 'Welder',\n",
    "    'strength' : 97,\n",
    "    'health': 100\n",
    "}\n",
    "\n",
    "# Get key 'name' and print it\n",
    "x = user.get('class')\n",
    "print (x)"
   ]
  },
  {
   "cell_type": "markdown",
   "id": "2a4db158",
   "metadata": {},
   "source": [
    "<b>zip()</b> can be used to combine two list into a dictionary."
   ]
  },
  {
   "cell_type": "code",
   "execution_count": 18,
   "id": "e3488315",
   "metadata": {},
   "outputs": [
    {
     "name": "stdout",
     "output_type": "stream",
     "text": [
      "{'spain': 'madrid', 'france': 'paris', 'germany': 'berlin', 'norway': 'oslo'}\n"
     ]
    }
   ],
   "source": [
    "# Definition of countries and capital\n",
    "countries = ['spain', 'france', 'germany', 'norway']\n",
    "capitals = ['madrid', 'paris', 'berlin', 'oslo']\n",
    "\n",
    "# From string in countries and capitals, create dictionary europe\n",
    "europe = dict(zip(countries, capitals))\n",
    "\n",
    "print(europe)"
   ]
  },
  {
   "cell_type": "markdown",
   "id": "2dc0d2b9",
   "metadata": {},
   "source": [
    "Use keys() to print out the keys in a dictionary."
   ]
  },
  {
   "cell_type": "code",
   "execution_count": 19,
   "id": "d556c15e",
   "metadata": {},
   "outputs": [
    {
     "name": "stdout",
     "output_type": "stream",
     "text": [
      "dict_keys(['spain', 'france', 'germany', 'norway'])\n",
      "True\n"
     ]
    }
   ],
   "source": [
    "# Definition of dictionary\n",
    "europe = {'spain':'madrid', 'france':'paris', 'germany':'berlin', 'norway':'oslo' }\n",
    "\n",
    "# Print out the keys in europe and value for france\n",
    "print(europe.keys())\n",
    "print('france' in europe)"
   ]
  },
  {
   "cell_type": "markdown",
   "id": "27006c96",
   "metadata": {},
   "source": [
    "<b>del()</b> is used to delete a key value pair from a dictionary. "
   ]
  },
  {
   "cell_type": "code",
   "execution_count": 20,
   "id": "b90a9ca5",
   "metadata": {},
   "outputs": [
    {
     "name": "stdout",
     "output_type": "stream",
     "text": [
      "{'spain': 'madrid', 'france': 'paris', 'germany': 'berlin'}\n"
     ]
    }
   ],
   "source": [
    "# Definition of dictionary\n",
    "europe = {'spain':'madrid', 'france':'paris', 'germany':'bonn', 'norway':'oslo' }\n",
    "\n",
    "# Update capital of germany\n",
    "europe['germany'] = 'berlin'\n",
    "\n",
    "del(europe[\"norway\"]) \n",
    "print(europe)"
   ]
  },
  {
   "cell_type": "markdown",
   "id": "c339a4fa",
   "metadata": {},
   "source": [
    "#### Dictionary within a dictionary\n",
    "Next we can create a new dictionary called data and add it to the italy key in europe."
   ]
  },
  {
   "cell_type": "code",
   "execution_count": 21,
   "id": "3f190853",
   "metadata": {},
   "outputs": [
    {
     "name": "stdout",
     "output_type": "stream",
     "text": [
      "{'capital': 'rome', 'population': 59.83}\n",
      "{'spain': {'capital': 'madrid', 'population': 46.77}, 'france': {'capital': 'paris', 'population': 66.03}, 'germany': {'capital': 'berlin', 'population': 80.62}, 'norway': {'capital': 'oslo', 'population': 5.084}, 'italy': {'capital': 'rome', 'population': 59.83}}\n"
     ]
    }
   ],
   "source": [
    "# Dictionary of dictionaries\n",
    "europe = { 'spain': { 'capital':'madrid', 'population':46.77 },\n",
    "           'france': { 'capital':'paris', 'population':66.03 },\n",
    "           'germany': { 'capital':'berlin', 'population':80.62 },\n",
    "           'norway': { 'capital':'oslo', 'population':5.084 } \n",
    "         }\n",
    "\n",
    "# Create sub-dictionary data\n",
    "data = {'capital': 'rome', 'population': 59.83}\n",
    "\n",
    "print(data)\n",
    "\n",
    "# Add data to europe under key 'italy'\n",
    "europe['italy'] = data\n",
    "\n",
    "# Print europe\n",
    "print(europe)\n"
   ]
  },
  {
   "cell_type": "markdown",
   "id": "89cac32a",
   "metadata": {},
   "source": [
    "### Tuples\n",
    "A tuple is similar to a list except that it’s immutable, meaning that you <b>cannot modify</b> it. Tuples are used to store multiple items in a single variable and are written with round brackets."
   ]
  },
  {
   "cell_type": "code",
   "execution_count": null,
   "id": "861c1745",
   "metadata": {},
   "outputs": [],
   "source": []
  },
  {
   "cell_type": "markdown",
   "id": "5497f12f",
   "metadata": {},
   "source": [
    "<ul>\n",
    "<li>Are ordered sequences of elements that can contain elements of different data types, including other tuples.</li>\n",
    "<li>Are immutable, which means you cannot add, remove, or modify elements after the tuple has been created.</li>\n",
    "<li>Often used to store related data, such as coordinates or records, and are commonly used as the keys in dictionaries.</li>\n",
    "</ul>"
   ]
  },
  {
   "cell_type": "code",
   "execution_count": 22,
   "id": "a6be8b62",
   "metadata": {},
   "outputs": [
    {
     "name": "stdout",
     "output_type": "stream",
     "text": [
      "(3, 5)\n"
     ]
    }
   ],
   "source": [
    "# Creating a tuple\n",
    "coordinates=(3, 5)\n",
    "print (coordinates)"
   ]
  },
  {
   "cell_type": "markdown",
   "id": "59baf107",
   "metadata": {},
   "source": [
    "Because they are orderd you can reference them by index."
   ]
  },
  {
   "cell_type": "code",
   "execution_count": 23,
   "id": "aeb19a77",
   "metadata": {},
   "outputs": [
    {
     "data": {
      "text/plain": [
       "4"
      ]
     },
     "execution_count": 23,
     "metadata": {},
     "output_type": "execute_result"
    }
   ],
   "source": [
    "mytuple= (1, 2, 3, 4)\n",
    "mytuple [3] "
   ]
  },
  {
   "cell_type": "markdown",
   "id": "d6a4404d",
   "metadata": {},
   "source": [
    "### Sets\n",
    "Sets are used to store multiple <b>unique</b> items in a single variable. A set is a collection which is unordered, unchangeable*, and unindexed."
   ]
  },
  {
   "cell_type": "markdown",
   "id": "2834d16b",
   "metadata": {},
   "source": [
    "<ul>\n",
    "<li>Unordered collections of unique elements.</li>\n",
    "<li>Mutable, which means you can add, remove, or modify elements\n",
    "after the set has been created.</li>\n",
    "<li>Provide fast membership testing and element removal, making\n",
    "them a useful data structure for tasks such as removing\n",
    "duplicates or checking for the presence of an element.</li>\n",
    "</ul>    "
   ]
  },
  {
   "cell_type": "code",
   "execution_count": 24,
   "id": "cc098c37",
   "metadata": {},
   "outputs": [
    {
     "data": {
      "text/plain": [
       "{1, 2, 3, 4, 5}"
      ]
     },
     "execution_count": 24,
     "metadata": {},
     "output_type": "execute_result"
    }
   ],
   "source": [
    "# Creating a set\n",
    "numbers = {1, 2, 3, 4, 5}\n",
    "numbers"
   ]
  },
  {
   "cell_type": "markdown",
   "id": "1dd7baff",
   "metadata": {},
   "source": [
    "They are muteable so we can modify them."
   ]
  },
  {
   "cell_type": "code",
   "execution_count": 25,
   "id": "4545dee3",
   "metadata": {},
   "outputs": [
    {
     "data": {
      "text/plain": [
       "{1, 2, 3, 4, 5, 6}"
      ]
     },
     "execution_count": 25,
     "metadata": {},
     "output_type": "execute_result"
    }
   ],
   "source": [
    "numbers.add(6)\n",
    "numbers"
   ]
  },
  {
   "cell_type": "markdown",
   "id": "000c074d",
   "metadata": {},
   "source": [
    "## Getting a datatime attribute out of a date string\n",
    "In the example below we get the hour out of a datetime string."
   ]
  },
  {
   "cell_type": "code",
   "execution_count": 26,
   "id": "34ae4e3a",
   "metadata": {},
   "outputs": [
    {
     "name": "stdout",
     "output_type": "stream",
     "text": [
      "22\n"
     ]
    }
   ],
   "source": [
    "from datetime import datetime\n",
    "\n",
    "date_string = \"12/31/2019 22:00\"\n",
    "date_format = \"%m/%d/%Y %H:%M\"\n",
    "\n",
    "# Parse the string into a datetime object\n",
    "date_object = datetime.strptime(date_string, date_format)\n",
    "\n",
    "# Extract the hour\n",
    "hour = date_object.hour\n",
    "\n",
    "print(hour)"
   ]
  },
  {
   "cell_type": "markdown",
   "id": "24d63e04",
   "metadata": {},
   "source": [
    "## Working with directories and files"
   ]
  },
  {
   "cell_type": "markdown",
   "id": "95ed01c5",
   "metadata": {},
   "source": [
    "### Creating directories\n",
    "You can use the os.path.exists() function in Python to check whether a specific file already exists or not. This function returns True if the file exists, and False otherwise.\n",
    "\n",
    "Here's an example code snippet to check if a file named myfile.txt exists in the current directory:"
   ]
  },
  {
   "cell_type": "code",
   "execution_count": 27,
   "id": "735f5807",
   "metadata": {},
   "outputs": [
    {
     "name": "stdout",
     "output_type": "stream",
     "text": [
      "Directory dir1 already exists\n",
      "Directory dir2 already exists\n",
      "Directory dir3 already exists\n"
     ]
    }
   ],
   "source": [
    "import os\n",
    "\n",
    "# list of new directories to create\n",
    "new_directories = ['dir1', 'dir2', 'dir3']\n",
    "\n",
    "# loop through the list of new directories\n",
    "for directory in new_directories:\n",
    "    \n",
    "    # check if directory exists\n",
    "    if not os.path.exists(directory):\n",
    "        \n",
    "        # create new directory\n",
    "        os.makedirs(directory)\n",
    "        print(f'Created directory {directory}')\n",
    "    else:\n",
    "        print(f'Directory {directory} already exists')"
   ]
  },
  {
   "cell_type": "markdown",
   "id": "33c1b7a8",
   "metadata": {},
   "source": [
    "### Checking to see if a file exist"
   ]
  },
  {
   "cell_type": "code",
   "execution_count": 28,
   "id": "8987e0cb",
   "metadata": {},
   "outputs": [
    {
     "name": "stdout",
     "output_type": "stream",
     "text": [
      "File does not exist\n"
     ]
    }
   ],
   "source": [
    "import os\n",
    "\n",
    "# check if file exists\n",
    "if os.path.exists(\"myfile.txt\"):\n",
    "    print(\"File exists\")\n",
    "else:\n",
    "    print(\"File does not exist\")"
   ]
  },
  {
   "cell_type": "markdown",
   "id": "7c6bae0c",
   "metadata": {},
   "source": [
    "If you want to check for a file in a specific directory, you can provide the full path to the file instead of just the file name. For example:"
   ]
  },
  {
   "cell_type": "code",
   "execution_count": 29,
   "id": "fde98e82",
   "metadata": {},
   "outputs": [
    {
     "name": "stdout",
     "output_type": "stream",
     "text": [
      "File does not exist\n"
     ]
    }
   ],
   "source": [
    "import os\n",
    "\n",
    "filepath = \"/path/to/myfile.txt\"\n",
    "\n",
    "# check if file exists\n",
    "if os.path.exists(filepath):\n",
    "    print(\"File exists\")\n",
    "else:\n",
    "    print(\"File does not exist\")"
   ]
  },
  {
   "cell_type": "markdown",
   "id": "d1fea29f",
   "metadata": {},
   "source": [
    "#### Walking directories\n",
    "os.walk() can be used to loop through directories and subdirectories.  This might come in handy if we need to search for certain files. The code below has a starting directory and then walk everything below that starting point in search of any csv or xlxs files ending in \"_copy\". It then prints out the result. "
   ]
  },
  {
   "cell_type": "code",
   "execution_count": 30,
   "id": "dd3eff90",
   "metadata": {},
   "outputs": [],
   "source": [
    "import os\n",
    "import send2trash\n",
    "\n",
    "root_dir = r'F:\\myReports' # set the starting root directory\n",
    "\n",
    "for subdir, dirs, files in os.walk(root_dir): # loop through all subdirectories under the root directory\n",
    "    for file in files:\n",
    "        if file.endswith(\"_copy.csv\") or file.endswith(\"_copy.xlsx\"): # check if the file name ends with \"_0.jpg\" or \"_0.mkv\"\n",
    "        #if file.endswith('.mkv') and os.path.getsize(file_path) == 0: # check if the file has a .mkv extension and a zero file size    \n",
    "            #os.remove(os.path.join(subdir, file))  # delete the file\n",
    "            #file_path = os.path.join(subdir, file) # get the full file path\n",
    "            #send2trash.send2trash(file_path) # move the file to the Recycle Bin\n",
    "            print(os.path.join(subdir, file)) # print the full file path"
   ]
  },
  {
   "cell_type": "markdown",
   "id": "695cfe4a",
   "metadata": {},
   "source": [
    "#### Organizing files and file names"
   ]
  },
  {
   "cell_type": "code",
   "execution_count": 31,
   "id": "2eadac32",
   "metadata": {},
   "outputs": [],
   "source": [
    "import os\n",
    "from datetime import datetime\n",
    "\n",
    "# Set the directories\n",
    "old_directory = \"reports_old\"\n",
    "new_directory = \"reports_new\"\n",
    "\n",
    "# Create the new directory if it doesn't exist\n",
    "if not os.path.exists(new_directory):\n",
    "    os.makedirs(new_directory)\n",
    "\n",
    "# Iterate over the files in the old directory\n",
    "for filename in os.listdir(old_directory):\n",
    "\n",
    "    # Get the original date from the filename\n",
    "    date_str = filename.replace(\"TPS-REPORT-\", \"\").split(\".\")[0]\n",
    "    #date_str = filename.split(\".\")[0]\n",
    "    #date_str = filename.split(\"-\")[-1].split(\".\")[0]\n",
    "\n",
    "    # Convert the original date to a datetime object\n",
    "    #date_obj = datetime.strptime(date_str, \"%d-%m-%Y\")     \n",
    "        \n",
    "    # Create the new filename with the new date format\n",
    "    #new_filename = \"TPS-REPORT-\" + date_obj + \".txt\"\n",
    "\n",
    "    # Create the full paths to the old and new files\n",
    "    #old_path = os.path.join(old_directory, filename)\n",
    "    #new_path = os.path.join(new_directory, new_filename)\n",
    "\n",
    "    # Move the file to the new directory with the new filename\n",
    "    #os.rename(old_path, new_path)"
   ]
  },
  {
   "cell_type": "code",
   "execution_count": 32,
   "id": "cc19c5b2",
   "metadata": {},
   "outputs": [
    {
     "name": "stdout",
     "output_type": "stream",
     "text": [
      "TPS-REPORT-01-Oct-2021.txt\n",
      "01-Oct-2021\n"
     ]
    }
   ],
   "source": [
    "file_name = 'TPS-REPORT-01-Oct-2021.txt'\n",
    "print(file_name)\n",
    "file_name = file_name.replace(\"TPS-REPORT-\", \"\")\n",
    "file_name = file_name.replace(\".txt\", \"\")\n",
    "#date_str = filename.split(\"-\")[2]\n",
    "\n",
    "print(file_name)"
   ]
  },
  {
   "cell_type": "markdown",
   "id": "f5775e4b",
   "metadata": {},
   "source": [
    "## Working with strings"
   ]
  },
  {
   "cell_type": "markdown",
   "id": "e3300752",
   "metadata": {},
   "source": [
    "### Moving characters in a string\n",
    "In the example below we move the first 5 characters in a string to the end of the string. \"[5:]\" gets the first 5 while [:5] tells python where to put those 5 characters."
   ]
  },
  {
   "cell_type": "code",
   "execution_count": 33,
   "id": "8eeb8fe0",
   "metadata": {},
   "outputs": [
    {
     "name": "stdout",
     "output_type": "stream",
     "text": [
      "A good year was 1984 \n"
     ]
    }
   ],
   "source": [
    "string = \"1984 A good year was \"\n",
    "if len(string) < 5:\n",
    "    print(\"Error: String must have at least 5 characters\")\n",
    "else:\n",
    "    new_string = string[5:] + string[:5]\n",
    "    print(new_string)"
   ]
  },
  {
   "cell_type": "markdown",
   "id": "18b6d07b",
   "metadata": {},
   "source": [
    "### Adding parentheses around four digit numbers\n",
    "At some point we may have a situation where we know any four number digits in a string represents a year, and we want to wrap the year in parentheses.  \n",
    "\n",
    "We can do this with \"re\" regular explressions to finid the pattern, then iterate over the string to add the parentheses."
   ]
  },
  {
   "cell_type": "code",
   "execution_count": 34,
   "id": "6b8d5d9e",
   "metadata": {},
   "outputs": [
    {
     "name": "stdout",
     "output_type": "stream",
     "text": [
      "The Outlaw Josey Wales (1976)\n"
     ]
    }
   ],
   "source": [
    "import re\n",
    "\n",
    "# Use regex to find the pattern\n",
    "def add_parentheses(string):\n",
    "    pattern = r\"\\d{4}\"  # regular expression pattern to match four digit numbers\n",
    "    matches = re.findall(pattern, string)  # find all matches in the string\n",
    "    \n",
    "    # iterate over matches and replace them with the same value, but with parentheses added\n",
    "    for match in matches:\n",
    "        string = string.replace(match, f\"({match})\")\n",
    "        \n",
    "    return string\n",
    "\n",
    "original_string = 'The Outlaw Josey Wales 1976'\n",
    "modified_string = add_parentheses(original_string)\n",
    "print(modified_string)  "
   ]
  },
  {
   "cell_type": "markdown",
   "id": "747a9953",
   "metadata": {},
   "source": [
    "## Lambda\n",
    "Lambda functions are similar to user-defined functions but without a name. They're commonly referred to as anonymous functions."
   ]
  },
  {
   "cell_type": "code",
   "execution_count": 35,
   "id": "7fb874f0",
   "metadata": {},
   "outputs": [
    {
     "data": {
      "text/plain": [
       "[4, 9, 16, 25]"
      ]
     },
     "execution_count": 35,
     "metadata": {},
     "output_type": "execute_result"
    }
   ],
   "source": [
    "list1 = [2, 3, 4, 5]\n",
    "list(map(lambda x: pow(x, 2), list1))"
   ]
  },
  {
   "cell_type": "markdown",
   "id": "3ee4bda3",
   "metadata": {},
   "source": [
    "## Try/Except\n",
    "This example overcomes the user input of a string."
   ]
  },
  {
   "cell_type": "code",
   "execution_count": null,
   "id": "19920133",
   "metadata": {},
   "outputs": [],
   "source": [
    "balance = 456.80\n",
    "\n",
    "while True:\n",
    "    try:\n",
    "        num = float(input('Deposit:'))\n",
    "        break\n",
    "    except ValueError:\n",
    "        print('Must be a valid quantity.')\n",
    "\n",
    "balance += num\n",
    "print (f'Balance: {balance}')"
   ]
  },
  {
   "cell_type": "code",
   "execution_count": null,
   "id": "9c5084e7",
   "metadata": {},
   "outputs": [],
   "source": []
  },
  {
   "cell_type": "code",
   "execution_count": null,
   "id": "72662d4b",
   "metadata": {},
   "outputs": [],
   "source": []
  },
  {
   "cell_type": "markdown",
   "id": "2acfdd79",
   "metadata": {},
   "source": [
    "## Recursion"
   ]
  },
  {
   "cell_type": "code",
   "execution_count": null,
   "id": "0b12c235",
   "metadata": {},
   "outputs": [],
   "source": []
  },
  {
   "cell_type": "code",
   "execution_count": null,
   "id": "0bcab188",
   "metadata": {},
   "outputs": [],
   "source": []
  },
  {
   "cell_type": "markdown",
   "id": "b2e88445",
   "metadata": {},
   "source": [
    "## Functions"
   ]
  },
  {
   "cell_type": "code",
   "execution_count": null,
   "id": "d5367d9c",
   "metadata": {},
   "outputs": [],
   "source": []
  },
  {
   "cell_type": "code",
   "execution_count": null,
   "id": "42a7984c",
   "metadata": {},
   "outputs": [],
   "source": []
  },
  {
   "cell_type": "markdown",
   "id": "1ff1062c",
   "metadata": {},
   "source": [
    "## Classes"
   ]
  },
  {
   "cell_type": "code",
   "execution_count": null,
   "id": "e4baf7e5",
   "metadata": {},
   "outputs": [],
   "source": []
  },
  {
   "cell_type": "code",
   "execution_count": null,
   "id": "28ae60ae",
   "metadata": {},
   "outputs": [],
   "source": []
  }
 ],
 "metadata": {
  "kernelspec": {
   "display_name": "Python 3 (ipykernel)",
   "language": "python",
   "name": "python3"
  },
  "language_info": {
   "codemirror_mode": {
    "name": "ipython",
    "version": 3
   },
   "file_extension": ".py",
   "mimetype": "text/x-python",
   "name": "python",
   "nbconvert_exporter": "python",
   "pygments_lexer": "ipython3",
   "version": "3.9.13"
  }
 },
 "nbformat": 4,
 "nbformat_minor": 5
}
