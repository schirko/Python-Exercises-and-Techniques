{
 "cells": [
  {
   "cell_type": "markdown",
   "id": "63cbd0ec",
   "metadata": {},
   "source": [
    "<h1><center>Python Exercises and Techniques</h1></center>"
   ]
  },
  {
   "cell_type": "markdown",
   "id": "87f0fa20",
   "metadata": {},
   "source": [
    "## Python's four built-in data sctructures"
   ]
  },
  {
   "cell_type": "markdown",
   "id": "c9a3e511",
   "metadata": {},
   "source": [
    "### Lists\n",
    "Lists are ordered, muteable, and allow duplicates.\n",
    "<ul>\n",
    "<li>Ordered sequences of elements that can contain elements of\n",
    "different data types, including other lists.</li>\n",
    "<li>Are mutable, which means you can add, remove, or modify\n",
    "elements after the list has been created.</li>\n",
    "<li>Provide various built-in methods for manipulation and iteration,\n",
    "making them a versatile and convenient data structure in\n",
    "Python.</li>\n",
    "</ul>"
   ]
  },
  {
   "cell_type": "code",
   "execution_count": 1,
   "id": "f7194877",
   "metadata": {},
   "outputs": [
    {
     "name": "stdout",
     "output_type": "stream",
     "text": [
      "['apple', 'banana', 'cherry', 'apple', 'cherry']\n"
     ]
    }
   ],
   "source": [
    "fruit_list = [\"apple\", \"banana\", \"cherry\", \"apple\", \"cherry\"]\n",
    "print(fruit_list)"
   ]
  },
  {
   "cell_type": "markdown",
   "id": "62c818ef",
   "metadata": {},
   "source": [
    "We can append to them."
   ]
  },
  {
   "cell_type": "code",
   "execution_count": 2,
   "id": "ba83d4b1",
   "metadata": {},
   "outputs": [
    {
     "name": "stdout",
     "output_type": "stream",
     "text": [
      "['apple', 'banana', 'cherry', 'apple', 'cherry', 'peach']\n"
     ]
    }
   ],
   "source": [
    "fruit_list.append(\"peach\")\n",
    "print(fruit_list)"
   ]
  },
  {
   "cell_type": "markdown",
   "id": "21db4c31",
   "metadata": {},
   "source": [
    "### Dictionary\n",
    "Dictionaries are used to store data values in key:value pairs.\n",
    "\n",
    "A dictionary is a collection which are ordered*, changeable and do not allow duplicates. As of Python version 3.7, dictionaries are ordered. In Python 3.6 and earlier, dictionaries are unordered.\n",
    "\n",
    "<ul>\n",
    "<li>Are unordered collections of key-value pairs, where each key maps to a unique value.</li>\n",
    "<li>Duplicates are not allowed.</li>\n",
    "<li>Are mutable, which means you can add, remove, or modify key value pairs after the dictionary has been created.</li>\n",
    "<li>Are implemented as hash tables, making them highly efficient for lookups and updates.</li>\n",
    "</ul>"
   ]
  },
  {
   "cell_type": "code",
   "execution_count": 3,
   "id": "89622ed1",
   "metadata": {},
   "outputs": [],
   "source": [
    "person = {'name': 'Larry Bird', 'age': 66, 'city': 'Boston'}"
   ]
  },
  {
   "cell_type": "markdown",
   "id": "3ce6d99e",
   "metadata": {},
   "source": [
    "You can access each value by provising the key."
   ]
  },
  {
   "cell_type": "code",
   "execution_count": 4,
   "id": "2df64202",
   "metadata": {},
   "outputs": [
    {
     "data": {
      "text/plain": [
       "'Larry Bird'"
      ]
     },
     "execution_count": 4,
     "metadata": {},
     "output_type": "execute_result"
    }
   ],
   "source": [
    "person['name']"
   ]
  },
  {
   "cell_type": "markdown",
   "id": "83f2b2f4",
   "metadata": {},
   "source": [
    "You can also change the values by referencing the key."
   ]
  },
  {
   "cell_type": "code",
   "execution_count": null,
   "id": "bd51e2e4",
   "metadata": {},
   "outputs": [],
   "source": []
  },
  {
   "cell_type": "markdown",
   "id": "16e9c387",
   "metadata": {},
   "source": [
    "Next we create a dictionary."
   ]
  },
  {
   "cell_type": "code",
   "execution_count": 5,
   "id": "c09fc68c",
   "metadata": {},
   "outputs": [
    {
     "name": "stdout",
     "output_type": "stream",
     "text": [
      "apple\n",
      "banana\n",
      "orange\n"
     ]
    }
   ],
   "source": [
    "my_fruit_dict = {'apple': 1, 'banana': 2, 'orange': 3}\n",
    "\n",
    "# Loop through the keys of the dictionary\n",
    "for key in my_fruit_dict:\n",
    "    print(key)"
   ]
  },
  {
   "cell_type": "markdown",
   "id": "fb75b09b",
   "metadata": {},
   "source": [
    "### Tuples\n",
    "Tuples are used to store multiple items in a single variable and are written with round brackets."
   ]
  },
  {
   "cell_type": "markdown",
   "id": "ed54d480",
   "metadata": {},
   "source": [
    "<ul>\n",
    "<li>Are ordered sequences of elements that can contain elements of different data types, including other tuples.</li>\n",
    "<li>Are immutable, which means you cannot add, remove, or modify elements after the tuple has been created.</li>\n",
    "<li>Often used to store related data, such as coordinates or records, and are commonly used as the keys in dictionaries.</li>\n",
    "</ul>"
   ]
  },
  {
   "cell_type": "code",
   "execution_count": 6,
   "id": "02ef0320",
   "metadata": {},
   "outputs": [
    {
     "name": "stdout",
     "output_type": "stream",
     "text": [
      "(3, 5)\n"
     ]
    }
   ],
   "source": [
    "# Creating a tuple\n",
    "coordinates=(3, 5)\n",
    "print (coordinates)"
   ]
  },
  {
   "cell_type": "markdown",
   "id": "4411d75e",
   "metadata": {},
   "source": [
    "Because they are orderd you can reference them by index."
   ]
  },
  {
   "cell_type": "code",
   "execution_count": 7,
   "id": "7548b5b6",
   "metadata": {},
   "outputs": [
    {
     "data": {
      "text/plain": [
       "4"
      ]
     },
     "execution_count": 7,
     "metadata": {},
     "output_type": "execute_result"
    }
   ],
   "source": [
    "mytuple= (1, 2, 3, 4)\n",
    "mytuple [3] "
   ]
  },
  {
   "cell_type": "code",
   "execution_count": null,
   "id": "78b8cdb2",
   "metadata": {},
   "outputs": [],
   "source": []
  },
  {
   "cell_type": "code",
   "execution_count": null,
   "id": "fba2448e",
   "metadata": {},
   "outputs": [],
   "source": []
  },
  {
   "cell_type": "markdown",
   "id": "4889b273",
   "metadata": {},
   "source": [
    "### Sets\n",
    "Sets are used to store multiple <b>unique</b> items in a single variable. A set is a collection which is unordered, unchangeable*, and unindexed."
   ]
  },
  {
   "cell_type": "markdown",
   "id": "8dc2b99e",
   "metadata": {},
   "source": [
    "<ul>\n",
    "<li>Unordered collections of unique elements.</li>\n",
    "<li>Mutable, which means you can add, remove, or modify elements\n",
    "after the set has been created.</li>\n",
    "<li>Provide fast membership testing and element removal, making\n",
    "them a useful data structure for tasks such as removing\n",
    "duplicates or checking for the presence of an element.</li>\n",
    "</ul>    "
   ]
  },
  {
   "cell_type": "code",
   "execution_count": 8,
   "id": "9a082bfa",
   "metadata": {},
   "outputs": [
    {
     "data": {
      "text/plain": [
       "{1, 2, 3, 4, 5}"
      ]
     },
     "execution_count": 8,
     "metadata": {},
     "output_type": "execute_result"
    }
   ],
   "source": [
    "# Creating a set\n",
    "numbers = {1, 2, 3, 4, 5}\n",
    "numbers"
   ]
  },
  {
   "cell_type": "markdown",
   "id": "63ad322e",
   "metadata": {},
   "source": [
    "They are muteable so we can modify them."
   ]
  },
  {
   "cell_type": "code",
   "execution_count": 9,
   "id": "8bdcb15a",
   "metadata": {},
   "outputs": [
    {
     "data": {
      "text/plain": [
       "{1, 2, 3, 4, 5, 6}"
      ]
     },
     "execution_count": 9,
     "metadata": {},
     "output_type": "execute_result"
    }
   ],
   "source": [
    "numbers.add(6)\n",
    "numbers"
   ]
  },
  {
   "cell_type": "markdown",
   "id": "5552edeb",
   "metadata": {},
   "source": [
    "## Getting a datatime attribute out of a date string\n",
    "In the example below we get the hour out of a datetime string."
   ]
  },
  {
   "cell_type": "code",
   "execution_count": 10,
   "id": "359d7d2f",
   "metadata": {},
   "outputs": [
    {
     "name": "stdout",
     "output_type": "stream",
     "text": [
      "22\n"
     ]
    }
   ],
   "source": [
    "from datetime import datetime\n",
    "\n",
    "date_string = \"12/31/2019 22:00\"\n",
    "date_format = \"%m/%d/%Y %H:%M\"\n",
    "\n",
    "# Parse the string into a datetime object\n",
    "date_object = datetime.strptime(date_string, date_format)\n",
    "\n",
    "# Extract the hour\n",
    "hour = date_object.hour\n",
    "\n",
    "print(hour)"
   ]
  },
  {
   "cell_type": "code",
   "execution_count": null,
   "id": "387d0337",
   "metadata": {},
   "outputs": [],
   "source": []
  },
  {
   "cell_type": "code",
   "execution_count": null,
   "id": "745ab3e8",
   "metadata": {},
   "outputs": [],
   "source": []
  },
  {
   "cell_type": "code",
   "execution_count": null,
   "id": "4a10f855",
   "metadata": {},
   "outputs": [],
   "source": []
  },
  {
   "cell_type": "code",
   "execution_count": null,
   "id": "06e3d44b",
   "metadata": {},
   "outputs": [],
   "source": []
  },
  {
   "cell_type": "code",
   "execution_count": null,
   "id": "477f357a",
   "metadata": {},
   "outputs": [],
   "source": []
  },
  {
   "cell_type": "markdown",
   "id": "b6b17d2d",
   "metadata": {},
   "source": [
    "## Working with directories and files"
   ]
  },
  {
   "cell_type": "markdown",
   "id": "020fa379",
   "metadata": {},
   "source": [
    "### Creating directories\n",
    "You can use the os.path.exists() function in Python to check whether a specific file already exists or not. This function returns True if the file exists, and False otherwise.\n",
    "\n",
    "Here's an example code snippet to check if a file named myfile.txt exists in the current directory:"
   ]
  },
  {
   "cell_type": "code",
   "execution_count": 11,
   "id": "2f31a355",
   "metadata": {},
   "outputs": [
    {
     "name": "stdout",
     "output_type": "stream",
     "text": [
      "Directory dir1 already exists\n",
      "Directory dir2 already exists\n",
      "Directory dir3 already exists\n"
     ]
    }
   ],
   "source": [
    "import os\n",
    "\n",
    "# list of new directories to create\n",
    "new_directories = ['dir1', 'dir2', 'dir3']\n",
    "\n",
    "# loop through the list of new directories\n",
    "for directory in new_directories:\n",
    "    \n",
    "    # check if directory exists\n",
    "    if not os.path.exists(directory):\n",
    "        \n",
    "        # create new directory\n",
    "        os.makedirs(directory)\n",
    "        print(f'Created directory {directory}')\n",
    "    else:\n",
    "        print(f'Directory {directory} already exists')"
   ]
  },
  {
   "cell_type": "markdown",
   "id": "47423226",
   "metadata": {},
   "source": [
    "### Checking to see if a file exist"
   ]
  },
  {
   "cell_type": "code",
   "execution_count": 12,
   "id": "da60b7a8",
   "metadata": {},
   "outputs": [
    {
     "name": "stdout",
     "output_type": "stream",
     "text": [
      "File does not exist\n"
     ]
    }
   ],
   "source": [
    "import os\n",
    "\n",
    "# check if file exists\n",
    "if os.path.exists(\"myfile.txt\"):\n",
    "    print(\"File exists\")\n",
    "else:\n",
    "    print(\"File does not exist\")"
   ]
  },
  {
   "cell_type": "markdown",
   "id": "49e94457",
   "metadata": {},
   "source": [
    "If you want to check for a file in a specific directory, you can provide the full path to the file instead of just the file name. For example:"
   ]
  },
  {
   "cell_type": "code",
   "execution_count": 13,
   "id": "e44202eb",
   "metadata": {},
   "outputs": [
    {
     "name": "stdout",
     "output_type": "stream",
     "text": [
      "File does not exist\n"
     ]
    }
   ],
   "source": [
    "import os\n",
    "\n",
    "filepath = \"/path/to/myfile.txt\"\n",
    "\n",
    "# check if file exists\n",
    "if os.path.exists(filepath):\n",
    "    print(\"File exists\")\n",
    "else:\n",
    "    print(\"File does not exist\")"
   ]
  },
  {
   "cell_type": "code",
   "execution_count": null,
   "id": "8b503d8d",
   "metadata": {},
   "outputs": [],
   "source": []
  },
  {
   "cell_type": "code",
   "execution_count": null,
   "id": "646f984f",
   "metadata": {},
   "outputs": [],
   "source": []
  },
  {
   "cell_type": "markdown",
   "id": "0f59d63d",
   "metadata": {},
   "source": [
    "## Working with strings"
   ]
  },
  {
   "cell_type": "code",
   "execution_count": null,
   "id": "3eb1fcdc",
   "metadata": {},
   "outputs": [],
   "source": []
  },
  {
   "cell_type": "code",
   "execution_count": null,
   "id": "296e2b66",
   "metadata": {},
   "outputs": [],
   "source": [
    "\n"
   ]
  },
  {
   "cell_type": "markdown",
   "id": "90915427",
   "metadata": {},
   "source": [
    "### Moving characters in a string\n",
    "In the example below we move the first 5 characters in a string to the end of the string. \"[5:]\" gets the first 5 while [:5] tells python where to put those 5 characters."
   ]
  },
  {
   "cell_type": "code",
   "execution_count": 14,
   "id": "b2d8e66e",
   "metadata": {},
   "outputs": [
    {
     "name": "stdout",
     "output_type": "stream",
     "text": [
      "A good year was 1984 \n"
     ]
    }
   ],
   "source": [
    "string = \"1984 A good year was \"\n",
    "if len(string) < 5:\n",
    "    print(\"Error: String must have at least 5 characters\")\n",
    "else:\n",
    "    new_string = string[5:] + string[:5]\n",
    "    print(new_string)"
   ]
  },
  {
   "cell_type": "markdown",
   "id": "6cb41b3a",
   "metadata": {},
   "source": [
    "### Adding parentheses around four digit numbers\n",
    "At some point we may have a situation where we know any four number digits in a string represents a year, and we want to wrap the year in parentheses.  \n",
    "\n",
    "We can do this with \"re\" regular explressions to finid the pattern, then iterate over the string to add the parentheses."
   ]
  },
  {
   "cell_type": "code",
   "execution_count": 15,
   "id": "00626c0f",
   "metadata": {},
   "outputs": [],
   "source": [
    "import re\n",
    "\n",
    "def add_parentheses(string):\n",
    "    pattern = r\"\\d{4}\"  # regular expression pattern to match four digit numbers\n",
    "    matches = re.findall(pattern, string)  # find all matches in the string\n",
    "    \n",
    "    # iterate over matches and replace them with the same value, but with parentheses added\n",
    "    for match in matches:\n",
    "        string = string.replace(match, f\"({match})\")\n",
    "        \n",
    "    return string"
   ]
  },
  {
   "cell_type": "markdown",
   "id": "5bce6b3b",
   "metadata": {},
   "source": [
    "We can then call the \"add_parenteses\" function we need to modify."
   ]
  },
  {
   "cell_type": "code",
   "execution_count": 16,
   "id": "cc6073dd",
   "metadata": {},
   "outputs": [
    {
     "name": "stdout",
     "output_type": "stream",
     "text": [
      "A Fist full of Dollars (1964)\n"
     ]
    }
   ],
   "source": [
    "original_string = \"A Fist full of Dollars 1964\"\n",
    "modified_string = add_parentheses(original_string)\n",
    "print(modified_string)  # Output: \"I have (1234) apples and (5678)9 oranges\""
   ]
  },
  {
   "cell_type": "code",
   "execution_count": null,
   "id": "c480cf65",
   "metadata": {},
   "outputs": [],
   "source": []
  },
  {
   "cell_type": "code",
   "execution_count": null,
   "id": "19da6fb6",
   "metadata": {},
   "outputs": [],
   "source": []
  },
  {
   "cell_type": "markdown",
   "id": "4242e785",
   "metadata": {},
   "source": [
    "## Python operators"
   ]
  },
  {
   "cell_type": "code",
   "execution_count": null,
   "id": "f372f4b0",
   "metadata": {},
   "outputs": [],
   "source": []
  },
  {
   "cell_type": "code",
   "execution_count": null,
   "id": "d2866fa6",
   "metadata": {},
   "outputs": [],
   "source": []
  },
  {
   "cell_type": "code",
   "execution_count": null,
   "id": "3dc9e1de",
   "metadata": {},
   "outputs": [],
   "source": []
  },
  {
   "cell_type": "code",
   "execution_count": null,
   "id": "9bb748d7",
   "metadata": {},
   "outputs": [],
   "source": []
  },
  {
   "cell_type": "code",
   "execution_count": 17,
   "id": "1711d099",
   "metadata": {},
   "outputs": [],
   "source": [
    "## Exceptions"
   ]
  }
 ],
 "metadata": {
  "kernelspec": {
   "display_name": "Python 3 (ipykernel)",
   "language": "python",
   "name": "python3"
  },
  "language_info": {
   "codemirror_mode": {
    "name": "ipython",
    "version": 3
   },
   "file_extension": ".py",
   "mimetype": "text/x-python",
   "name": "python",
   "nbconvert_exporter": "python",
   "pygments_lexer": "ipython3",
   "version": "3.9.13"
  }
 },
 "nbformat": 4,
 "nbformat_minor": 5
}
