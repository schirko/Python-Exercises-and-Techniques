{
 "cells": [
  {
   "cell_type": "markdown",
   "id": "0592bb74",
   "metadata": {},
   "source": [
    "## Python's four built-in data sctructures"
   ]
  },
  {
   "cell_type": "markdown",
   "id": "ace58f08",
   "metadata": {},
   "source": [
    "### Lists\n",
    "Lists are ordered, muteable, and allow duplicates.\n",
    "<ul>\n",
    "<li>Ordered sequences of elements that can contain elements of\n",
    "different data types, including other lists.</li>\n",
    "<li>Are mutable, which means you can add, remove, or modify\n",
    "elements after the list has been created.</li>\n",
    "<li>Provide various built-in methods for manipulation and iteration,\n",
    "making them a versatile and convenient data structure in\n",
    "Python.</li>\n",
    "</ul>"
   ]
  },
  {
   "cell_type": "code",
   "execution_count": null,
   "id": "e5c7207a",
   "metadata": {},
   "outputs": [],
   "source": [
    "fruit_list = [\"apple\", \"banana\", \"cherry\", \"apple\", \"cherry\"]\n",
    "print(fruit_list)"
   ]
  },
  {
   "cell_type": "markdown",
   "id": "fafa992c",
   "metadata": {},
   "source": [
    "We can append to them."
   ]
  },
  {
   "cell_type": "code",
   "execution_count": null,
   "id": "a66d598b",
   "metadata": {},
   "outputs": [],
   "source": [
    "fruit_list.append(\"peach\")\n",
    "print(fruit_list)"
   ]
  },
  {
   "cell_type": "markdown",
   "id": "f3f9d72d",
   "metadata": {},
   "source": [
    "### Dictionary\n",
    "Dictionaries are used to store data values in key:value pairs.\n",
    "\n",
    "A dictionary is a collection which are ordered*, changeable and do not allow duplicates. As of Python version 3.7, dictionaries are ordered. In Python 3.6 and earlier, dictionaries are unordered.\n",
    "\n",
    "<ul>\n",
    "<li>Are unordered collections of key-value pairs, where each key\n",
    "maps to a unique value.</li>\n",
    "    <li>Duplicates are not allowed.</li>\n",
    "<li>Are mutable, which means you can add, remove, or modify key\n",
    "value pairs after the dictionary has been created.</li>\n",
    "<li>Are implemented as hash tables, making them highly efficient\n",
    "for lookups and updates.</li>\n",
    "</ul>"
   ]
  },
  {
   "cell_type": "code",
   "execution_count": null,
   "id": "665e599f",
   "metadata": {},
   "outputs": [],
   "source": [
    "person = {'name': 'Larry Bird', 'age': 66, 'city': 'Boston'}"
   ]
  },
  {
   "cell_type": "code",
   "execution_count": null,
   "id": "c73ce590",
   "metadata": {},
   "outputs": [],
   "source": [
    "You can access each value by provising the key."
   ]
  },
  {
   "cell_type": "code",
   "execution_count": null,
   "id": "14a1803e",
   "metadata": {},
   "outputs": [],
   "source": [
    "person['name']"
   ]
  },
  {
   "cell_type": "code",
   "execution_count": null,
   "id": "8ce8b81c",
   "metadata": {},
   "outputs": [],
   "source": [
    "You can also change the values."
   ]
  },
  {
   "cell_type": "code",
   "execution_count": null,
   "id": "f0dbc9e3",
   "metadata": {},
   "outputs": [],
   "source": []
  },
  {
   "cell_type": "code",
   "execution_count": null,
   "id": "e65f84af",
   "metadata": {},
   "outputs": [],
   "source": []
  },
  {
   "cell_type": "code",
   "execution_count": null,
   "id": "2432dfd6",
   "metadata": {},
   "outputs": [],
   "source": []
  },
  {
   "cell_type": "markdown",
   "id": "f62c4a10",
   "metadata": {},
   "source": [
    "### Tuple"
   ]
  },
  {
   "cell_type": "code",
   "execution_count": null,
   "id": "e9d28286",
   "metadata": {},
   "outputs": [],
   "source": []
  },
  {
   "cell_type": "code",
   "execution_count": null,
   "id": "f2980935",
   "metadata": {},
   "outputs": [],
   "source": []
  },
  {
   "cell_type": "markdown",
   "id": "53733e1c",
   "metadata": {},
   "source": [
    "### Set"
   ]
  },
  {
   "cell_type": "code",
   "execution_count": null,
   "id": "d5e5fa3b",
   "metadata": {},
   "outputs": [],
   "source": []
  },
  {
   "cell_type": "code",
   "execution_count": null,
   "id": "cbe84fe0",
   "metadata": {},
   "outputs": [],
   "source": []
  }
 ],
 "metadata": {
  "kernelspec": {
   "display_name": "Python 3 (ipykernel)",
   "language": "python",
   "name": "python3"
  },
  "language_info": {
   "codemirror_mode": {
    "name": "ipython",
    "version": 3
   },
   "file_extension": ".py",
   "mimetype": "text/x-python",
   "name": "python",
   "nbconvert_exporter": "python",
   "pygments_lexer": "ipython3",
   "version": "3.9.13"
  }
 },
 "nbformat": 4,
 "nbformat_minor": 5
}
