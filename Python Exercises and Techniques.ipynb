{
 "cells": [
  {
   "cell_type": "markdown",
   "id": "83523f4f",
   "metadata": {},
   "source": [
    "<h1><center>Python Exercises and Techniques</h1></center>"
   ]
  },
  {
   "cell_type": "markdown",
   "id": "d716a073",
   "metadata": {},
   "source": [
    "## Python's four built-in data sctructures\n",
    "Lets explore lists, dictionaries, tuples, and sets."
   ]
  },
  {
   "cell_type": "markdown",
   "id": "f009ba73",
   "metadata": {},
   "source": [
    "### Lists\n",
    "Lists are ordered, muteable, and allow duplicates.\n",
    "<ul>\n",
    "<li>Ordered sequences of elements that can contain elements of\n",
    "different data types, including other lists.</li>\n",
    "<li>Are mutable, which means you can add, remove, or modify\n",
    "elements after the list has been created.</li>\n",
    "<li>Provide various built-in methods for manipulation and iteration,\n",
    "making them a versatile and convenient data structure in\n",
    "Python.</li>\n",
    "</ul>"
   ]
  },
  {
   "cell_type": "code",
   "execution_count": 1,
   "id": "15e60c1b",
   "metadata": {},
   "outputs": [
    {
     "name": "stdout",
     "output_type": "stream",
     "text": [
      "['apple', 'banana', 'cherry', 'apple', 'cherry']\n"
     ]
    }
   ],
   "source": [
    "fruit_list = [\"apple\", \"banana\", \"cherry\", \"apple\", \"cherry\"]\n",
    "print(fruit_list)"
   ]
  },
  {
   "cell_type": "markdown",
   "id": "7fe08f51",
   "metadata": {},
   "source": [
    "We can append to them."
   ]
  },
  {
   "cell_type": "code",
   "execution_count": 2,
   "id": "c0f6ff2e",
   "metadata": {},
   "outputs": [
    {
     "name": "stdout",
     "output_type": "stream",
     "text": [
      "['apple', 'banana', 'cherry', 'apple', 'cherry', 'peach']\n"
     ]
    }
   ],
   "source": [
    "fruit_list.append(\"peach\")\n",
    "print(fruit_list)"
   ]
  },
  {
   "cell_type": "markdown",
   "id": "f7aa767f",
   "metadata": {},
   "source": [
    "#### Creating lists"
   ]
  },
  {
   "cell_type": "markdown",
   "id": "f5aa9b6b",
   "metadata": {},
   "source": [
    "Creating lists is very easy. We can using rounded brackets to manually code a list."
   ]
  },
  {
   "cell_type": "code",
   "execution_count": 3,
   "id": "7a9ecde1",
   "metadata": {},
   "outputs": [
    {
     "name": "stdout",
     "output_type": "stream",
     "text": [
      "('Apples', 'Oranges', 'Pears')\n"
     ]
    }
   ],
   "source": [
    "fruit = ('Apples', 'Oranges', 'Pears')\n",
    "print(fruit)"
   ]
  },
  {
   "cell_type": "markdown",
   "id": "702147d0",
   "metadata": {},
   "source": [
    "Or we can use the list() and append() methods to initiate a list and then append to it."
   ]
  },
  {
   "cell_type": "code",
   "execution_count": 4,
   "id": "14034822",
   "metadata": {},
   "outputs": [
    {
     "name": "stdout",
     "output_type": "stream",
     "text": [
      "['Apples', 'Oranges', 'Pears']\n"
     ]
    }
   ],
   "source": [
    "fruit = list()\n",
    "fruit.append('Apples')\n",
    "fruit.append('Oranges')\n",
    "fruit.append('Pears')\n",
    "print(fruit)"
   ]
  },
  {
   "cell_type": "markdown",
   "id": "931f7723",
   "metadata": {},
   "source": [
    "#### String also work well with lists"
   ]
  },
  {
   "cell_type": "markdown",
   "id": "2ffe643b",
   "metadata": {},
   "source": [
    "We can use the split() function on a string to break it up into a list.  Then we can use len() to give us the length of the list."
   ]
  },
  {
   "cell_type": "code",
   "execution_count": 5,
   "id": "8df117d2",
   "metadata": {},
   "outputs": [
    {
     "name": "stdout",
     "output_type": "stream",
     "text": [
      "['Colorado', 'is', 'a', 'great', 'state.']\n",
      "26\n"
     ]
    }
   ],
   "source": [
    "sentence = 'Colorado is a great state.'\n",
    "sentence_words = sentence.split()\n",
    "print(sentence_words)\n",
    "print(len(sentence))"
   ]
  },
  {
   "cell_type": "markdown",
   "id": "daa6ce36",
   "metadata": {},
   "source": [
    "#### Adding an index to a list\n",
    "We can loop through a list but it doesn't provide us an index. There may be times where we need to add an index, in those cases we can use enumerate()."
   ]
  },
  {
   "cell_type": "code",
   "execution_count": 6,
   "id": "06189846",
   "metadata": {},
   "outputs": [
    {
     "name": "stdout",
     "output_type": "stream",
     "text": [
      "0 Fishing In Canada\n",
      "1 Relax In Puerto Vallarta\n",
      "2 Golf In San Diego\n",
      "3 Stay At Home\n"
     ]
    }
   ],
   "source": [
    "vacation_ideas_list = [\n",
    "\"Fishing in Canada\",\n",
    "\"Relax in Puerto Vallarta\",\n",
    "\"Golf in San Diego\",\n",
    "\"Stay at home\",\n",
    "]\n",
    "\n",
    "#loop over thing and index\n",
    "for i, idea in enumerate (vacation_ideas_list):\n",
    "    print(i, idea.title())"
   ]
  },
  {
   "cell_type": "markdown",
   "id": "2641153b",
   "metadata": {},
   "source": [
    "#### Combining Lists\n",
    "The best way to combine lists is to use the extend() method."
   ]
  },
  {
   "cell_type": "code",
   "execution_count": 7,
   "id": "85b3f77e",
   "metadata": {},
   "outputs": [
    {
     "name": "stdout",
     "output_type": "stream",
     "text": [
      "[1, 2, 3, 'a', 'b', 'c']\n"
     ]
    }
   ],
   "source": [
    "list_a= [1, 2, 3]\n",
    "list_b = ['a', 'b', 'c']\n",
    "list_a.extend(list_b)\n",
    "print(list_a)"
   ]
  },
  {
   "cell_type": "code",
   "execution_count": 8,
   "id": "1d8221da",
   "metadata": {},
   "outputs": [
    {
     "name": "stdout",
     "output_type": "stream",
     "text": [
      "['Crimson Sword', 'Great Helm', 'Leather Boots', 'Health Potion', 'Mana Potion', 'Map of Riches']\n"
     ]
    }
   ],
   "source": [
    "inventory = [\n",
    "'Crimson Sword',\n",
    "'Great Helm',\n",
    "'Leather Boots'\n",
    "]\n",
    "chest = [\n",
    "'Health Potion',\n",
    "'Mana Potion',\n",
    "'Map of Riches'\n",
    "]\n",
    "inventory.extend(chest)\n",
    "print(inventory)"
   ]
  },
  {
   "cell_type": "markdown",
   "id": "eca3968e",
   "metadata": {},
   "source": [
    "#### Map()\n",
    "Using map() return a map object(which is an iterator) of the results after applying the given function to each item of a given iterable (list, tuple etc.)"
   ]
  },
  {
   "cell_type": "code",
   "execution_count": 9,
   "id": "caf6fd9f",
   "metadata": {},
   "outputs": [
    {
     "name": "stdout",
     "output_type": "stream",
     "text": [
      "<map object at 0x0000016FF502EEE0>\n"
     ]
    }
   ],
   "source": [
    "citizens = [('Steve', 10), ('Mark', 8), ('Chris', 19)]\n",
    "def tax(citizen):\n",
    "    name = citizen[0]\n",
    "    taxed_balance = citizen [1] *0.93\n",
    "    return (name, taxed_balance)\n",
    "taxed_citizens = map(tax, citizens)\n",
    "print(taxed_citizens)"
   ]
  },
  {
   "cell_type": "markdown",
   "id": "1144f56d",
   "metadata": {},
   "source": [
    "We can change it back to a list by adding back in \"list\"."
   ]
  },
  {
   "cell_type": "code",
   "execution_count": null,
   "id": "62488576",
   "metadata": {},
   "outputs": [],
   "source": [
    "citizens = [('Steve', 10), ('Mark', 8), ('Chris', 19)]\n",
    "def tax(citizen):\n",
    "    name = citizen[0]\n",
    "    taxed_balance = citizen [1] *0.93\n",
    "    return (name, taxed_balance)\n",
    "taxed_citizens = list(map(tax, citizens))\n",
    "print(taxed_citizens)"
   ]
  },
  {
   "cell_type": "code",
   "execution_count": null,
   "id": "0f4c6880",
   "metadata": {},
   "outputs": [],
   "source": []
  },
  {
   "cell_type": "markdown",
   "id": "d6aa0f48",
   "metadata": {},
   "source": [
    "#### Looping through a list\n",
    "To loop through a list and print out it's associated slot, we can use enumerate() "
   ]
  },
  {
   "cell_type": "code",
   "execution_count": null,
   "id": "47be5da3",
   "metadata": {},
   "outputs": [],
   "source": [
    "inventory = ['sword', 'shield', 'potion']\n",
    "for slot, item in enumerate(inventory):\n",
    "    print(f\"{slot}: {item}\")"
   ]
  },
  {
   "cell_type": "code",
   "execution_count": null,
   "id": "78988fd7",
   "metadata": {},
   "outputs": [],
   "source": []
  },
  {
   "cell_type": "markdown",
   "id": "86cc3148",
   "metadata": {},
   "source": [
    "### Dictionary\n",
    "Dictionaries are used to store data values in key:value pairs. JUst like with lists, you can select, update, and reemove with square brackets [].\n",
    "\n",
    "A dictionary is a collection which are ordered*, changeable and do not allow duplicates. As of Python version 3.7, dictionaries are ordered. In Python 3.6 and earlier, dictionaries are unordered.\n",
    "\n",
    "<ul>\n",
    "<li>Are unordered collections of key-value pairs, where each key maps to a unique value.</li>\n",
    "<li>Duplicates are not allowed.</li>\n",
    "<li>Are mutable, which means you can add, remove, or modify key value pairs after the dictionary has been created.</li>\n",
    "<li>Are implemented as hash tables, making them highly efficient for lookups and updates.</li>\n",
    "</ul>"
   ]
  },
  {
   "cell_type": "code",
   "execution_count": null,
   "id": "fe2f377d",
   "metadata": {},
   "outputs": [],
   "source": [
    "nba_players = {'name': 'Larry Bird', 'age': 66, 'city': 'Boston'}"
   ]
  },
  {
   "cell_type": "markdown",
   "id": "1dde2bc6",
   "metadata": {},
   "source": [
    "You can access each value by providing the key."
   ]
  },
  {
   "cell_type": "code",
   "execution_count": null,
   "id": "f8963520",
   "metadata": {},
   "outputs": [],
   "source": [
    "nba_players['name']"
   ]
  },
  {
   "cell_type": "code",
   "execution_count": null,
   "id": "d2fef3c9",
   "metadata": {},
   "outputs": [],
   "source": [
    "# Printing dictionary\n",
    "print(\"Original dictionary is : \" + str(nba_players))"
   ]
  },
  {
   "cell_type": "markdown",
   "id": "8580ec57",
   "metadata": {},
   "source": [
    "Next we look at a dictionary using a for loop."
   ]
  },
  {
   "cell_type": "code",
   "execution_count": null,
   "id": "2a80b310",
   "metadata": {},
   "outputs": [],
   "source": [
    "my_fruit_dict = {'apple': 1, 'banana': 2, 'orange': 3}\n",
    "\n",
    "# Loop through the keys of the dictionary\n",
    "for key in my_fruit_dict:\n",
    "    print(key)"
   ]
  },
  {
   "cell_type": "markdown",
   "id": "acc3e008",
   "metadata": {},
   "source": [
    "#### Dictionary Comprehension\n",
    "We can create a dictionary with indexes from a list using dictionary comprehension"
   ]
  },
  {
   "cell_type": "code",
   "execution_count": null,
   "id": "3d0e379a",
   "metadata": {},
   "outputs": [],
   "source": [
    "names = [\n",
    "    'Daniel',\n",
    "    'Mike',\n",
    "    'William'\n",
    "]\n",
    "\n",
    "# Dictionary Comprehension\n",
    "length = {name: len (name) for name in names}\n",
    "print (length)"
   ]
  },
  {
   "cell_type": "markdown",
   "id": "9809eecc",
   "metadata": {},
   "source": [
    "#### Using get() on a dictionary\n",
    "The following code to print the key 'class' works unless we call a key that doesn't exist."
   ]
  },
  {
   "cell_type": "code",
   "execution_count": 14,
   "id": "23e1a66d",
   "metadata": {},
   "outputs": [
    {
     "name": "stdout",
     "output_type": "stream",
     "text": [
      "Welder\n"
     ]
    }
   ],
   "source": [
    "user = {\n",
    "    'name': 'Jimbo',\n",
    "    'class': 'Welder',\n",
    "    'strength' : 97,\n",
    "    'health': 100\n",
    "}\n",
    "\n",
    "x = user['class']\n",
    "print (x)"
   ]
  },
  {
   "cell_type": "markdown",
   "id": "abf11a1c",
   "metadata": {},
   "source": [
    "So, we can use get() to the key/value and if the kay doesn't exist it will just return NONE."
   ]
  },
  {
   "cell_type": "code",
   "execution_count": 12,
   "id": "3666061b",
   "metadata": {},
   "outputs": [
    {
     "name": "stdout",
     "output_type": "stream",
     "text": [
      "None\n"
     ]
    }
   ],
   "source": [
    "user = {\n",
    "    'name': 'Jimbo',\n",
    "    'class': 'Welder',\n",
    "    'strength' : 97,\n",
    "    'health': 100\n",
    "}\n",
    "\n",
    "x = user.get('class')\n",
    "print (x)"
   ]
  },
  {
   "cell_type": "markdown",
   "id": "28db099b",
   "metadata": {},
   "source": [
    "<b>zip()</b> can be used to combine two list into a dictionary."
   ]
  },
  {
   "cell_type": "code",
   "execution_count": null,
   "id": "5c9f5dfa",
   "metadata": {},
   "outputs": [],
   "source": [
    "# Definition of countries and capital\n",
    "countries = ['spain', 'france', 'germany', 'norway']\n",
    "capitals = ['madrid', 'paris', 'berlin', 'oslo']\n",
    "\n",
    "# From string in countries and capitals, create dictionary europe\n",
    "europe = dict(zip(countries, capitals))\n",
    "\n",
    "print(europe)"
   ]
  },
  {
   "cell_type": "markdown",
   "id": "69a8bb04",
   "metadata": {},
   "source": [
    "Use keys() to print out the keys in a dictionary."
   ]
  },
  {
   "cell_type": "code",
   "execution_count": 19,
   "id": "cc99bd86",
   "metadata": {},
   "outputs": [
    {
     "name": "stdout",
     "output_type": "stream",
     "text": [
      "dict_keys(['spain', 'france', 'germany', 'norway'])\n",
      "True\n"
     ]
    }
   ],
   "source": [
    "# Definition of dictionary\n",
    "europe = {'spain':'madrid', 'france':'paris', 'germany':'berlin', 'norway':'oslo' }\n",
    "\n",
    "# Print out the keys in europe and value for france\n",
    "print(europe.keys())\n",
    "print('france' in europe)"
   ]
  },
  {
   "cell_type": "markdown",
   "id": "23abfe7d",
   "metadata": {},
   "source": [
    "<b>del()</b> is used to delete a key value pair from a dictionary. "
   ]
  },
  {
   "cell_type": "code",
   "execution_count": 20,
   "id": "7d0dd550",
   "metadata": {},
   "outputs": [
    {
     "name": "stdout",
     "output_type": "stream",
     "text": [
      "{'spain': 'madrid', 'france': 'paris', 'germany': 'berlin'}\n"
     ]
    }
   ],
   "source": [
    "# Definition of dictionary\n",
    "europe = {'spain':'madrid', 'france':'paris', 'germany':'bonn', 'norway':'oslo' }\n",
    "\n",
    "# Update capital of germany\n",
    "europe['germany'] = 'berlin'\n",
    "\n",
    "del(europe[\"norway\"]) \n",
    "print(europe)"
   ]
  },
  {
   "cell_type": "markdown",
   "id": "0c7cb2a2",
   "metadata": {},
   "source": [
    "#### Dictionary within a dictionary\n",
    "Next we can create a new dictionary called data and add it to the italy key in europe."
   ]
  },
  {
   "cell_type": "code",
   "execution_count": 21,
   "id": "17f2f706",
   "metadata": {},
   "outputs": [
    {
     "name": "stdout",
     "output_type": "stream",
     "text": [
      "paris\n",
      "{'capital': 'rome', 'population': 59.83}\n",
      "{'spain': {'capital': 'madrid', 'population': 46.77}, 'france': {'capital': 'paris', 'population': 66.03}, 'germany': {'capital': 'berlin', 'population': 80.62}, 'norway': {'capital': 'oslo', 'population': 5.084}, 'italy': {'capital': 'rome', 'population': 59.83}}\n"
     ]
    }
   ],
   "source": [
    "# Dictionary of dictionaries\n",
    "europe = { 'spain': { 'capital':'madrid', 'population':46.77 },\n",
    "           'france': { 'capital':'paris', 'population':66.03 },\n",
    "           'germany': { 'capital':'berlin', 'population':80.62 },\n",
    "           'norway': { 'capital':'oslo', 'population':5.084 } }\n",
    "\n",
    "# Create sub-dictionary data\n",
    "data = {'capital': 'rome', 'population': 59.83}\n",
    "\n",
    "print(data)\n",
    "\n",
    "# Add data to europe under key 'italy'\n",
    "europe['italy'] = data\n",
    "\n",
    "# Print europe\n",
    "print(europe)\n"
   ]
  },
  {
   "cell_type": "markdown",
   "id": "89cac32a",
   "metadata": {},
   "source": [
    "### Tuples\n",
    "A tuple is similar to a list except that it’s immutable, meaning that you <b>cannot modify</b> it. Tuples are used to store multiple items in a single variable and are written with round brackets."
   ]
  },
  {
   "cell_type": "code",
   "execution_count": null,
   "id": "b3d41176",
   "metadata": {},
   "outputs": [],
   "source": []
  },
  {
   "cell_type": "markdown",
   "id": "5497f12f",
   "metadata": {},
   "source": [
    "<ul>\n",
    "<li>Are ordered sequences of elements that can contain elements of different data types, including other tuples.</li>\n",
    "<li>Are immutable, which means you cannot add, remove, or modify elements after the tuple has been created.</li>\n",
    "<li>Often used to store related data, such as coordinates or records, and are commonly used as the keys in dictionaries.</li>\n",
    "</ul>"
   ]
  },
  {
   "cell_type": "code",
   "execution_count": null,
   "id": "a6be8b62",
   "metadata": {},
   "outputs": [],
   "source": [
    "# Creating a tuple\n",
    "coordinates=(3, 5)\n",
    "print (coordinates)"
   ]
  },
  {
   "cell_type": "markdown",
   "id": "59baf107",
   "metadata": {},
   "source": [
    "Because they are orderd you can reference them by index."
   ]
  },
  {
   "cell_type": "code",
   "execution_count": null,
   "id": "aeb19a77",
   "metadata": {},
   "outputs": [],
   "source": [
    "mytuple= (1, 2, 3, 4)\n",
    "mytuple [3] "
   ]
  },
  {
   "cell_type": "markdown",
   "id": "d6a4404d",
   "metadata": {},
   "source": [
    "### Sets\n",
    "Sets are used to store multiple <b>unique</b> items in a single variable. A set is a collection which is unordered, unchangeable*, and unindexed."
   ]
  },
  {
   "cell_type": "markdown",
   "id": "2834d16b",
   "metadata": {},
   "source": [
    "<ul>\n",
    "<li>Unordered collections of unique elements.</li>\n",
    "<li>Mutable, which means you can add, remove, or modify elements\n",
    "after the set has been created.</li>\n",
    "<li>Provide fast membership testing and element removal, making\n",
    "them a useful data structure for tasks such as removing\n",
    "duplicates or checking for the presence of an element.</li>\n",
    "</ul>    "
   ]
  },
  {
   "cell_type": "code",
   "execution_count": null,
   "id": "cc098c37",
   "metadata": {},
   "outputs": [],
   "source": [
    "# Creating a set\n",
    "numbers = {1, 2, 3, 4, 5}\n",
    "numbers"
   ]
  },
  {
   "cell_type": "markdown",
   "id": "1dd7baff",
   "metadata": {},
   "source": [
    "They are muteable so we can modify them."
   ]
  },
  {
   "cell_type": "code",
   "execution_count": null,
   "id": "4545dee3",
   "metadata": {},
   "outputs": [],
   "source": [
    "numbers.add(6)\n",
    "numbers"
   ]
  },
  {
   "cell_type": "markdown",
   "id": "000c074d",
   "metadata": {},
   "source": [
    "## Getting a datatime attribute out of a date string\n",
    "In the example below we get the hour out of a datetime string."
   ]
  },
  {
   "cell_type": "code",
   "execution_count": null,
   "id": "34ae4e3a",
   "metadata": {},
   "outputs": [],
   "source": [
    "from datetime import datetime\n",
    "\n",
    "date_string = \"12/31/2019 22:00\"\n",
    "date_format = \"%m/%d/%Y %H:%M\"\n",
    "\n",
    "# Parse the string into a datetime object\n",
    "date_object = datetime.strptime(date_string, date_format)\n",
    "\n",
    "# Extract the hour\n",
    "hour = date_object.hour\n",
    "\n",
    "print(hour)"
   ]
  },
  {
   "cell_type": "markdown",
   "id": "24d63e04",
   "metadata": {},
   "source": [
    "## Working with directories and files"
   ]
  },
  {
   "cell_type": "markdown",
   "id": "95ed01c5",
   "metadata": {},
   "source": [
    "### Creating directories\n",
    "You can use the os.path.exists() function in Python to check whether a specific file already exists or not. This function returns True if the file exists, and False otherwise.\n",
    "\n",
    "Here's an example code snippet to check if a file named myfile.txt exists in the current directory:"
   ]
  },
  {
   "cell_type": "code",
   "execution_count": null,
   "id": "735f5807",
   "metadata": {},
   "outputs": [],
   "source": [
    "import os\n",
    "\n",
    "# list of new directories to create\n",
    "new_directories = ['dir1', 'dir2', 'dir3']\n",
    "\n",
    "# loop through the list of new directories\n",
    "for directory in new_directories:\n",
    "    \n",
    "    # check if directory exists\n",
    "    if not os.path.exists(directory):\n",
    "        \n",
    "        # create new directory\n",
    "        os.makedirs(directory)\n",
    "        print(f'Created directory {directory}')\n",
    "    else:\n",
    "        print(f'Directory {directory} already exists')"
   ]
  },
  {
   "cell_type": "markdown",
   "id": "33c1b7a8",
   "metadata": {},
   "source": [
    "### Checking to see if a file exist"
   ]
  },
  {
   "cell_type": "code",
   "execution_count": null,
   "id": "8987e0cb",
   "metadata": {},
   "outputs": [],
   "source": [
    "import os\n",
    "\n",
    "# check if file exists\n",
    "if os.path.exists(\"myfile.txt\"):\n",
    "    print(\"File exists\")\n",
    "else:\n",
    "    print(\"File does not exist\")"
   ]
  },
  {
   "cell_type": "markdown",
   "id": "7c6bae0c",
   "metadata": {},
   "source": [
    "If you want to check for a file in a specific directory, you can provide the full path to the file instead of just the file name. For example:"
   ]
  },
  {
   "cell_type": "code",
   "execution_count": null,
   "id": "fde98e82",
   "metadata": {},
   "outputs": [],
   "source": [
    "import os\n",
    "\n",
    "filepath = \"/path/to/myfile.txt\"\n",
    "\n",
    "# check if file exists\n",
    "if os.path.exists(filepath):\n",
    "    print(\"File exists\")\n",
    "else:\n",
    "    print(\"File does not exist\")"
   ]
  },
  {
   "cell_type": "markdown",
   "id": "27355d5f",
   "metadata": {},
   "source": [
    "#### Walking directories\n",
    "os.walk() can be used to loop through directories and subdirectories.  This might come in handy if we need to search for certain files. The code below has a starting directory and then walk everything below that starting point in search of any csv or xlxs files ending in \"_copy\". It then prints out the result. "
   ]
  },
  {
   "cell_type": "code",
   "execution_count": null,
   "id": "2f269d79",
   "metadata": {},
   "outputs": [],
   "source": [
    "import os\n",
    "import send2trash\n",
    "\n",
    "root_dir = r'F:\\myReports' # set the starting root directory\n",
    "\n",
    "for subdir, dirs, files in os.walk(root_dir): # loop through all subdirectories under the root directory\n",
    "    for file in files:\n",
    "        if file.endswith(\"_copy.csv\") or file.endswith(\"_copy.xlsx\"): # check if the file name ends with \"_0.jpg\" or \"_0.mkv\"\n",
    "        #if file.endswith('.mkv') and os.path.getsize(file_path) == 0: # check if the file has a .mkv extension and a zero file size    \n",
    "            #os.remove(os.path.join(subdir, file))  # delete the file\n",
    "            #file_path = os.path.join(subdir, file) # get the full file path\n",
    "            #send2trash.send2trash(file_path) # move the file to the Recycle Bin\n",
    "            print(os.path.join(subdir, file)) # print the full file path"
   ]
  },
  {
   "cell_type": "markdown",
   "id": "695cfe4a",
   "metadata": {},
   "source": [
    "#### Organizing files and file names"
   ]
  },
  {
   "cell_type": "code",
   "execution_count": null,
   "id": "2eadac32",
   "metadata": {},
   "outputs": [],
   "source": [
    "import os\n",
    "from datetime import datetime\n",
    "\n",
    "# Set the directories\n",
    "old_directory = \"reports_old\"\n",
    "new_directory = \"reports_new\"\n",
    "\n",
    "# Create the new directory if it doesn't exist\n",
    "if not os.path.exists(new_directory):\n",
    "    os.makedirs(new_directory)\n",
    "\n",
    "# Iterate over the files in the old directory\n",
    "for filename in os.listdir(old_directory):\n",
    "\n",
    "    # Get the original date from the filename\n",
    "    date_str = filename.replace(\"TPS-REPORT-\", \"\").split(\".\")[0]\n",
    "    #date_str = filename.split(\".\")[0]\n",
    "    #date_str = filename.split(\"-\")[-1].split(\".\")[0]\n",
    "\n",
    "    # Convert the original date to a datetime object\n",
    "    #date_obj = datetime.strptime(date_str, \"%d-%m-%Y\")     \n",
    "        \n",
    "    # Create the new filename with the new date format\n",
    "    #new_filename = \"TPS-REPORT-\" + date_obj + \".txt\"\n",
    "\n",
    "    # Create the full paths to the old and new files\n",
    "    #old_path = os.path.join(old_directory, filename)\n",
    "    #new_path = os.path.join(new_directory, new_filename)\n",
    "\n",
    "    # Move the file to the new directory with the new filename\n",
    "    #os.rename(old_path, new_path)"
   ]
  },
  {
   "cell_type": "code",
   "execution_count": null,
   "id": "cc19c5b2",
   "metadata": {},
   "outputs": [],
   "source": [
    "file_name = 'TPS-REPORT-01-Oct-2021.txt'\n",
    "print(file_name)\n",
    "file_name = file_name.replace(\"TPS-REPORT-\", \"\")\n",
    "file_name = file_name.replace(\".txt\", \"\")\n",
    "#date_str = filename.split(\"-\")[2]\n",
    "print(file_name)"
   ]
  },
  {
   "cell_type": "markdown",
   "id": "f5775e4b",
   "metadata": {},
   "source": [
    "## Working with strings"
   ]
  },
  {
   "cell_type": "markdown",
   "id": "e3300752",
   "metadata": {},
   "source": [
    "### Moving characters in a string\n",
    "In the example below we move the first 5 characters in a string to the end of the string. \"[5:]\" gets the first 5 while [:5] tells python where to put those 5 characters."
   ]
  },
  {
   "cell_type": "code",
   "execution_count": null,
   "id": "8eeb8fe0",
   "metadata": {},
   "outputs": [],
   "source": [
    "string = \"1984 A good year was \"\n",
    "if len(string) < 5:\n",
    "    print(\"Error: String must have at least 5 characters\")\n",
    "else:\n",
    "    new_string = string[5:] + string[:5]\n",
    "    print(new_string)"
   ]
  },
  {
   "cell_type": "markdown",
   "id": "18b6d07b",
   "metadata": {},
   "source": [
    "### Adding parentheses around four digit numbers\n",
    "At some point we may have a situation where we know any four number digits in a string represents a year, and we want to wrap the year in parentheses.  \n",
    "\n",
    "We can do this with \"re\" regular explressions to finid the pattern, then iterate over the string to add the parentheses."
   ]
  },
  {
   "cell_type": "code",
   "execution_count": null,
   "id": "6b8d5d9e",
   "metadata": {},
   "outputs": [],
   "source": [
    "import re\n",
    "\n",
    "def add_parentheses(string):\n",
    "    pattern = r\"\\d{4}\"  # regular expression pattern to match four digit numbers\n",
    "    matches = re.findall(pattern, string)  # find all matches in the string\n",
    "    \n",
    "    # iterate over matches and replace them with the same value, but with parentheses added\n",
    "    for match in matches:\n",
    "        string = string.replace(match, f\"({match})\")\n",
    "        \n",
    "    return string\n",
    "\n",
    "original_string = 'A Fist full of Dollars 1964'\n",
    "modified_string = add_parentheses(original_string)\n",
    "print(modified_string)  "
   ]
  },
  {
   "cell_type": "markdown",
   "id": "0c1fbb49",
   "metadata": {},
   "source": [
    "## Python Operators\n",
    "Python divides the operators in the following groups:\n",
    "\n",
    "Arithmetic operators\n",
    "Assignment operators\n",
    "Comparison operators\n",
    "Logical operators\n",
    "Identity operators\n",
    "Membership operators\n",
    "Bitwise operators"
   ]
  },
  {
   "cell_type": "code",
   "execution_count": null,
   "id": "3d2b80fa",
   "metadata": {},
   "outputs": [],
   "source": []
  },
  {
   "cell_type": "code",
   "execution_count": null,
   "id": "a2a4b3c7",
   "metadata": {},
   "outputs": [],
   "source": []
  },
  {
   "cell_type": "code",
   "execution_count": null,
   "id": "78d20f79",
   "metadata": {},
   "outputs": [],
   "source": []
  },
  {
   "cell_type": "code",
   "execution_count": null,
   "id": "543b8743",
   "metadata": {},
   "outputs": [],
   "source": []
  },
  {
   "cell_type": "markdown",
   "id": "17a701bd",
   "metadata": {},
   "source": [
    "## Functions"
   ]
  },
  {
   "cell_type": "code",
   "execution_count": null,
   "id": "ef74d6e2",
   "metadata": {},
   "outputs": [],
   "source": []
  },
  {
   "cell_type": "code",
   "execution_count": null,
   "id": "009c97c7",
   "metadata": {},
   "outputs": [],
   "source": []
  },
  {
   "cell_type": "markdown",
   "id": "5170ba1f",
   "metadata": {},
   "source": [
    "## Lambda\n",
    "Lambda functions are similar to user-defined functions but without a name. They're commonly referred to as anonymous functions.\n",
    "\n",
    "lambda argument(s) : expression"
   ]
  },
  {
   "cell_type": "code",
   "execution_count": null,
   "id": "0e1295df",
   "metadata": {},
   "outputs": [],
   "source": [
    "list1 = [2, 3, 4, 5]\n",
    "list(map(lambda x: pow(x, 2), list1))"
   ]
  },
  {
   "cell_type": "markdown",
   "id": "bb61a303",
   "metadata": {},
   "source": [
    "### Recursion"
   ]
  },
  {
   "cell_type": "code",
   "execution_count": null,
   "id": "d7e38067",
   "metadata": {},
   "outputs": [],
   "source": []
  },
  {
   "cell_type": "code",
   "execution_count": null,
   "id": "f220257f",
   "metadata": {},
   "outputs": [],
   "source": []
  },
  {
   "cell_type": "code",
   "execution_count": null,
   "id": "4097bae9",
   "metadata": {},
   "outputs": [],
   "source": []
  }
 ],
 "metadata": {
  "kernelspec": {
   "display_name": "Python 3 (ipykernel)",
   "language": "python",
   "name": "python3"
  },
  "language_info": {
   "codemirror_mode": {
    "name": "ipython",
    "version": 3
   },
   "file_extension": ".py",
   "mimetype": "text/x-python",
   "name": "python",
   "nbconvert_exporter": "python",
   "pygments_lexer": "ipython3",
   "version": "3.9.13"
  }
 },
 "nbformat": 4,
 "nbformat_minor": 5
}
