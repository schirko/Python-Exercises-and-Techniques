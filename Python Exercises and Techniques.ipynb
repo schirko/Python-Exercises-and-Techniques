{
 "cells": [
  {
   "cell_type": "markdown",
   "id": "83523f4f",
   "metadata": {},
   "source": [
    "<h1><center>Python Exercises and Techniques</h1></center>"
   ]
  },
  {
   "cell_type": "markdown",
   "id": "d716a073",
   "metadata": {},
   "source": [
    "## Python's four built-in data sctructures\n",
    "Lets explore lists, dictionaries, tuples, and sets."
   ]
  },
  {
   "cell_type": "markdown",
   "id": "f009ba73",
   "metadata": {},
   "source": [
    "### Lists\n",
    "Lists are ordered, muteable, and allow duplicates.\n",
    "<ul>\n",
    "<li>Ordered sequences of elements that can contain elements of\n",
    "different data types, including other lists.</li>\n",
    "<li>Are mutable, which means you can add, remove, or modify\n",
    "elements after the list has been created.</li>\n",
    "<li>Provide various built-in methods for manipulation and iteration,\n",
    "making them a versatile and convenient data structure in\n",
    "Python.</li>\n",
    "</ul>"
   ]
  },
  {
   "cell_type": "code",
   "execution_count": 1,
   "id": "15e60c1b",
   "metadata": {},
   "outputs": [
    {
     "name": "stdout",
     "output_type": "stream",
     "text": [
      "['apple', 'banana', 'cherry', 'apple', 'cherry']\n"
     ]
    }
   ],
   "source": [
    "fruit_list = [\"apple\", \"banana\", \"cherry\", \"apple\", \"cherry\"]\n",
    "print(fruit_list)"
   ]
  },
  {
   "cell_type": "markdown",
   "id": "7fe08f51",
   "metadata": {},
   "source": [
    "We can append to them."
   ]
  },
  {
   "cell_type": "code",
   "execution_count": 2,
   "id": "c0f6ff2e",
   "metadata": {},
   "outputs": [
    {
     "name": "stdout",
     "output_type": "stream",
     "text": [
      "['apple', 'banana', 'cherry', 'apple', 'cherry', 'peach']\n"
     ]
    }
   ],
   "source": [
    "fruit_list.append(\"peach\")\n",
    "print(fruit_list)"
   ]
  },
  {
   "cell_type": "markdown",
   "id": "f7aa767f",
   "metadata": {},
   "source": [
    "#### Creating lists"
   ]
  },
  {
   "cell_type": "markdown",
   "id": "f5aa9b6b",
   "metadata": {},
   "source": [
    "Creating lists is very easy. We can using rounded brackets to manually code a list."
   ]
  },
  {
   "cell_type": "code",
   "execution_count": 3,
   "id": "7a9ecde1",
   "metadata": {},
   "outputs": [
    {
     "name": "stdout",
     "output_type": "stream",
     "text": [
      "('Apples', 'Oranges', 'Pears')\n"
     ]
    }
   ],
   "source": [
    "fruit = ('Apples', 'Oranges', 'Pears')\n",
    "print(fruit)"
   ]
  },
  {
   "cell_type": "markdown",
   "id": "702147d0",
   "metadata": {},
   "source": [
    "Or we can use the list() and append() methods to initiate a list and then append to it."
   ]
  },
  {
   "cell_type": "code",
   "execution_count": 4,
   "id": "14034822",
   "metadata": {},
   "outputs": [
    {
     "name": "stdout",
     "output_type": "stream",
     "text": [
      "['Apples', 'Oranges', 'Pears']\n"
     ]
    }
   ],
   "source": [
    "fruit = list()\n",
    "fruit.append('Apples')\n",
    "fruit.append('Oranges')\n",
    "fruit.append('Pears')\n",
    "print(fruit)"
   ]
  },
  {
   "cell_type": "markdown",
   "id": "931f7723",
   "metadata": {},
   "source": [
    "#### String also work well with lists"
   ]
  },
  {
   "cell_type": "markdown",
   "id": "2ffe643b",
   "metadata": {},
   "source": [
    "We can use the split() function on a string to break it up into a list.  Then we can use len() to give us the length of the list."
   ]
  },
  {
   "cell_type": "code",
   "execution_count": 5,
   "id": "8df117d2",
   "metadata": {},
   "outputs": [
    {
     "name": "stdout",
     "output_type": "stream",
     "text": [
      "['Colorado', 'is', 'a', 'great', 'state.']\n",
      "26\n"
     ]
    }
   ],
   "source": [
    "sentence = 'Colorado is a great state.'\n",
    "sentence_words = sentence.split()\n",
    "print(sentence_words)\n",
    "print(len(sentence))"
   ]
  },
  {
   "cell_type": "markdown",
   "id": "daa6ce36",
   "metadata": {},
   "source": [
    "#### Adding an index to a list\n",
    "We can loop through a list but it doesn't provide us an index. There may be times where we need to add an index, in those cases we can use enumerate()."
   ]
  },
  {
   "cell_type": "code",
   "execution_count": 6,
   "id": "06189846",
   "metadata": {},
   "outputs": [
    {
     "name": "stdout",
     "output_type": "stream",
     "text": [
      "0 Fishing In Canada\n",
      "1 Relax In Puerto Vallarta\n",
      "2 Golf In San Diego\n",
      "3 Stay At Home\n"
     ]
    }
   ],
   "source": [
    "vacation_ideas_list = [\n",
    "\"Fishing in Canada\",\n",
    "\"Relax in Puerto Vallarta\",\n",
    "\"Golf in San Diego\",\n",
    "\"Stay at home\",\n",
    "]\n",
    "\n",
    "#loop over thing and index\n",
    "for i, idea in enumerate (vacation_ideas_list):\n",
    "    print(i, idea.title())"
   ]
  },
  {
   "cell_type": "code",
   "execution_count": null,
   "id": "57eebab4",
   "metadata": {},
   "outputs": [],
   "source": []
  },
  {
   "cell_type": "markdown",
   "id": "86cc3148",
   "metadata": {},
   "source": [
    "### Dictionary\n",
    "Dictionaries are used to store data values in key:value pairs.\n",
    "\n",
    "A dictionary is a collection which are ordered*, changeable and do not allow duplicates. As of Python version 3.7, dictionaries are ordered. In Python 3.6 and earlier, dictionaries are unordered.\n",
    "\n",
    "<ul>\n",
    "<li>Are unordered collections of key-value pairs, where each key maps to a unique value.</li>\n",
    "<li>Duplicates are not allowed.</li>\n",
    "<li>Are mutable, which means you can add, remove, or modify key value pairs after the dictionary has been created.</li>\n",
    "<li>Are implemented as hash tables, making them highly efficient for lookups and updates.</li>\n",
    "</ul>"
   ]
  },
  {
   "cell_type": "code",
   "execution_count": 7,
   "id": "fe2f377d",
   "metadata": {},
   "outputs": [],
   "source": [
    "nba_players = {'name': 'Larry Bird', 'age': 66, 'city': 'Boston'}"
   ]
  },
  {
   "cell_type": "markdown",
   "id": "1dde2bc6",
   "metadata": {},
   "source": [
    "You can access each value by providing the key."
   ]
  },
  {
   "cell_type": "code",
   "execution_count": 8,
   "id": "f8963520",
   "metadata": {},
   "outputs": [
    {
     "data": {
      "text/plain": [
       "'Larry Bird'"
      ]
     },
     "execution_count": 8,
     "metadata": {},
     "output_type": "execute_result"
    }
   ],
   "source": [
    "nba_players['name']"
   ]
  },
  {
   "cell_type": "code",
   "execution_count": 9,
   "id": "d2fef3c9",
   "metadata": {},
   "outputs": [
    {
     "name": "stdout",
     "output_type": "stream",
     "text": [
      "Original dictionary is : {'name': 'Larry Bird', 'age': 66, 'city': 'Boston'}\n"
     ]
    }
   ],
   "source": [
    "# Printing dictionary\n",
    "print(\"Original dictionary is : \" + str(nba_players))"
   ]
  },
  {
   "cell_type": "markdown",
   "id": "8580ec57",
   "metadata": {},
   "source": [
    "Next we look at a dictionary using a for loop."
   ]
  },
  {
   "cell_type": "code",
   "execution_count": 10,
   "id": "2a80b310",
   "metadata": {},
   "outputs": [
    {
     "name": "stdout",
     "output_type": "stream",
     "text": [
      "apple\n",
      "banana\n",
      "orange\n"
     ]
    }
   ],
   "source": [
    "my_fruit_dict = {'apple': 1, 'banana': 2, 'orange': 3}\n",
    "\n",
    "# Loop through the keys of the dictionary\n",
    "for key in my_fruit_dict:\n",
    "    print(key)"
   ]
  },
  {
   "cell_type": "markdown",
   "id": "89cac32a",
   "metadata": {},
   "source": [
    "### Tuples\n",
    "A tuple is similar to a list except that it’s immutable, meaning that you <b>cannot modify</b> it. Tuples are used to store multiple items in a single variable and are written with round brackets."
   ]
  },
  {
   "cell_type": "markdown",
   "id": "5497f12f",
   "metadata": {},
   "source": [
    "<ul>\n",
    "<li>Are ordered sequences of elements that can contain elements of different data types, including other tuples.</li>\n",
    "<li>Are immutable, which means you cannot add, remove, or modify elements after the tuple has been created.</li>\n",
    "<li>Often used to store related data, such as coordinates or records, and are commonly used as the keys in dictionaries.</li>\n",
    "</ul>"
   ]
  },
  {
   "cell_type": "code",
   "execution_count": 11,
   "id": "a6be8b62",
   "metadata": {},
   "outputs": [
    {
     "name": "stdout",
     "output_type": "stream",
     "text": [
      "(3, 5)\n"
     ]
    }
   ],
   "source": [
    "# Creating a tuple\n",
    "coordinates=(3, 5)\n",
    "print (coordinates)"
   ]
  },
  {
   "cell_type": "markdown",
   "id": "59baf107",
   "metadata": {},
   "source": [
    "Because they are orderd you can reference them by index."
   ]
  },
  {
   "cell_type": "code",
   "execution_count": 12,
   "id": "aeb19a77",
   "metadata": {},
   "outputs": [
    {
     "data": {
      "text/plain": [
       "4"
      ]
     },
     "execution_count": 12,
     "metadata": {},
     "output_type": "execute_result"
    }
   ],
   "source": [
    "mytuple= (1, 2, 3, 4)\n",
    "mytuple [3] "
   ]
  },
  {
   "cell_type": "markdown",
   "id": "d6a4404d",
   "metadata": {},
   "source": [
    "### Sets\n",
    "Sets are used to store multiple <b>unique</b> items in a single variable. A set is a collection which is unordered, unchangeable*, and unindexed."
   ]
  },
  {
   "cell_type": "markdown",
   "id": "2834d16b",
   "metadata": {},
   "source": [
    "<ul>\n",
    "<li>Unordered collections of unique elements.</li>\n",
    "<li>Mutable, which means you can add, remove, or modify elements\n",
    "after the set has been created.</li>\n",
    "<li>Provide fast membership testing and element removal, making\n",
    "them a useful data structure for tasks such as removing\n",
    "duplicates or checking for the presence of an element.</li>\n",
    "</ul>    "
   ]
  },
  {
   "cell_type": "code",
   "execution_count": 13,
   "id": "cc098c37",
   "metadata": {},
   "outputs": [
    {
     "data": {
      "text/plain": [
       "{1, 2, 3, 4, 5}"
      ]
     },
     "execution_count": 13,
     "metadata": {},
     "output_type": "execute_result"
    }
   ],
   "source": [
    "# Creating a set\n",
    "numbers = {1, 2, 3, 4, 5}\n",
    "numbers"
   ]
  },
  {
   "cell_type": "markdown",
   "id": "1dd7baff",
   "metadata": {},
   "source": [
    "They are muteable so we can modify them."
   ]
  },
  {
   "cell_type": "code",
   "execution_count": 14,
   "id": "4545dee3",
   "metadata": {},
   "outputs": [
    {
     "data": {
      "text/plain": [
       "{1, 2, 3, 4, 5, 6}"
      ]
     },
     "execution_count": 14,
     "metadata": {},
     "output_type": "execute_result"
    }
   ],
   "source": [
    "numbers.add(6)\n",
    "numbers"
   ]
  },
  {
   "cell_type": "markdown",
   "id": "000c074d",
   "metadata": {},
   "source": [
    "## Getting a datatime attribute out of a date string\n",
    "In the example below we get the hour out of a datetime string."
   ]
  },
  {
   "cell_type": "code",
   "execution_count": 15,
   "id": "34ae4e3a",
   "metadata": {},
   "outputs": [
    {
     "name": "stdout",
     "output_type": "stream",
     "text": [
      "22\n"
     ]
    }
   ],
   "source": [
    "from datetime import datetime\n",
    "\n",
    "date_string = \"12/31/2019 22:00\"\n",
    "date_format = \"%m/%d/%Y %H:%M\"\n",
    "\n",
    "# Parse the string into a datetime object\n",
    "date_object = datetime.strptime(date_string, date_format)\n",
    "\n",
    "# Extract the hour\n",
    "hour = date_object.hour\n",
    "\n",
    "print(hour)"
   ]
  },
  {
   "cell_type": "markdown",
   "id": "24d63e04",
   "metadata": {},
   "source": [
    "## Working with directories and files"
   ]
  },
  {
   "cell_type": "markdown",
   "id": "95ed01c5",
   "metadata": {},
   "source": [
    "### Creating directories\n",
    "You can use the os.path.exists() function in Python to check whether a specific file already exists or not. This function returns True if the file exists, and False otherwise.\n",
    "\n",
    "Here's an example code snippet to check if a file named myfile.txt exists in the current directory:"
   ]
  },
  {
   "cell_type": "code",
   "execution_count": 16,
   "id": "735f5807",
   "metadata": {},
   "outputs": [
    {
     "name": "stdout",
     "output_type": "stream",
     "text": [
      "Directory dir1 already exists\n",
      "Directory dir2 already exists\n",
      "Directory dir3 already exists\n"
     ]
    }
   ],
   "source": [
    "import os\n",
    "\n",
    "# list of new directories to create\n",
    "new_directories = ['dir1', 'dir2', 'dir3']\n",
    "\n",
    "# loop through the list of new directories\n",
    "for directory in new_directories:\n",
    "    \n",
    "    # check if directory exists\n",
    "    if not os.path.exists(directory):\n",
    "        \n",
    "        # create new directory\n",
    "        os.makedirs(directory)\n",
    "        print(f'Created directory {directory}')\n",
    "    else:\n",
    "        print(f'Directory {directory} already exists')"
   ]
  },
  {
   "cell_type": "markdown",
   "id": "33c1b7a8",
   "metadata": {},
   "source": [
    "### Checking to see if a file exist"
   ]
  },
  {
   "cell_type": "code",
   "execution_count": 17,
   "id": "8987e0cb",
   "metadata": {},
   "outputs": [
    {
     "name": "stdout",
     "output_type": "stream",
     "text": [
      "File does not exist\n"
     ]
    }
   ],
   "source": [
    "import os\n",
    "\n",
    "# check if file exists\n",
    "if os.path.exists(\"myfile.txt\"):\n",
    "    print(\"File exists\")\n",
    "else:\n",
    "    print(\"File does not exist\")"
   ]
  },
  {
   "cell_type": "markdown",
   "id": "7c6bae0c",
   "metadata": {},
   "source": [
    "If you want to check for a file in a specific directory, you can provide the full path to the file instead of just the file name. For example:"
   ]
  },
  {
   "cell_type": "code",
   "execution_count": 18,
   "id": "fde98e82",
   "metadata": {},
   "outputs": [
    {
     "name": "stdout",
     "output_type": "stream",
     "text": [
      "File does not exist\n"
     ]
    }
   ],
   "source": [
    "import os\n",
    "\n",
    "filepath = \"/path/to/myfile.txt\"\n",
    "\n",
    "# check if file exists\n",
    "if os.path.exists(filepath):\n",
    "    print(\"File exists\")\n",
    "else:\n",
    "    print(\"File does not exist\")"
   ]
  },
  {
   "cell_type": "markdown",
   "id": "695cfe4a",
   "metadata": {},
   "source": [
    "#### Organizing files and file names"
   ]
  },
  {
   "cell_type": "markdown",
   "id": "fb87e29c",
   "metadata": {},
   "source": []
  },
  {
   "cell_type": "code",
   "execution_count": 34,
   "id": "2eadac32",
   "metadata": {},
   "outputs": [
    {
     "ename": "ValueError",
     "evalue": "time data '2023' does not match format '%d-%m-%Y'",
     "output_type": "error",
     "traceback": [
      "\u001b[1;31m---------------------------------------------------------------------------\u001b[0m",
      "\u001b[1;31mValueError\u001b[0m                                Traceback (most recent call last)",
      "\u001b[1;32m~\\AppData\\Local\\Temp\\ipykernel_25036\\3461410975.py\u001b[0m in \u001b[0;36m<module>\u001b[1;34m\u001b[0m\n\u001b[0;32m     18\u001b[0m \u001b[1;33m\u001b[0m\u001b[0m\n\u001b[0;32m     19\u001b[0m         \u001b[1;31m# Convert the original date to a datetime object\u001b[0m\u001b[1;33m\u001b[0m\u001b[1;33m\u001b[0m\u001b[0m\n\u001b[1;32m---> 20\u001b[1;33m         \u001b[0mdate_obj\u001b[0m \u001b[1;33m=\u001b[0m \u001b[0mdatetime\u001b[0m\u001b[1;33m.\u001b[0m\u001b[0mstrptime\u001b[0m\u001b[1;33m(\u001b[0m\u001b[0mdate_str\u001b[0m\u001b[1;33m,\u001b[0m \u001b[1;34m\"%d-%m-%Y\"\u001b[0m\u001b[1;33m)\u001b[0m\u001b[1;33m\u001b[0m\u001b[1;33m\u001b[0m\u001b[0m\n\u001b[0m\u001b[0;32m     21\u001b[0m \u001b[1;33m\u001b[0m\u001b[0m\n\u001b[0;32m     22\u001b[0m         \u001b[1;31m# Create the new filename with the new date format\u001b[0m\u001b[1;33m\u001b[0m\u001b[1;33m\u001b[0m\u001b[0m\n",
      "\u001b[1;32ma:\\Anaconda3\\lib\\_strptime.py\u001b[0m in \u001b[0;36m_strptime_datetime\u001b[1;34m(cls, data_string, format)\u001b[0m\n\u001b[0;32m    566\u001b[0m     \"\"\"Return a class cls instance based on the input string and the\n\u001b[0;32m    567\u001b[0m     format string.\"\"\"\n\u001b[1;32m--> 568\u001b[1;33m     \u001b[0mtt\u001b[0m\u001b[1;33m,\u001b[0m \u001b[0mfraction\u001b[0m\u001b[1;33m,\u001b[0m \u001b[0mgmtoff_fraction\u001b[0m \u001b[1;33m=\u001b[0m \u001b[0m_strptime\u001b[0m\u001b[1;33m(\u001b[0m\u001b[0mdata_string\u001b[0m\u001b[1;33m,\u001b[0m \u001b[0mformat\u001b[0m\u001b[1;33m)\u001b[0m\u001b[1;33m\u001b[0m\u001b[1;33m\u001b[0m\u001b[0m\n\u001b[0m\u001b[0;32m    569\u001b[0m     \u001b[0mtzname\u001b[0m\u001b[1;33m,\u001b[0m \u001b[0mgmtoff\u001b[0m \u001b[1;33m=\u001b[0m \u001b[0mtt\u001b[0m\u001b[1;33m[\u001b[0m\u001b[1;33m-\u001b[0m\u001b[1;36m2\u001b[0m\u001b[1;33m:\u001b[0m\u001b[1;33m]\u001b[0m\u001b[1;33m\u001b[0m\u001b[1;33m\u001b[0m\u001b[0m\n\u001b[0;32m    570\u001b[0m     \u001b[0margs\u001b[0m \u001b[1;33m=\u001b[0m \u001b[0mtt\u001b[0m\u001b[1;33m[\u001b[0m\u001b[1;33m:\u001b[0m\u001b[1;36m6\u001b[0m\u001b[1;33m]\u001b[0m \u001b[1;33m+\u001b[0m \u001b[1;33m(\u001b[0m\u001b[0mfraction\u001b[0m\u001b[1;33m,\u001b[0m\u001b[1;33m)\u001b[0m\u001b[1;33m\u001b[0m\u001b[1;33m\u001b[0m\u001b[0m\n",
      "\u001b[1;32ma:\\Anaconda3\\lib\\_strptime.py\u001b[0m in \u001b[0;36m_strptime\u001b[1;34m(data_string, format)\u001b[0m\n\u001b[0;32m    347\u001b[0m     \u001b[0mfound\u001b[0m \u001b[1;33m=\u001b[0m \u001b[0mformat_regex\u001b[0m\u001b[1;33m.\u001b[0m\u001b[0mmatch\u001b[0m\u001b[1;33m(\u001b[0m\u001b[0mdata_string\u001b[0m\u001b[1;33m)\u001b[0m\u001b[1;33m\u001b[0m\u001b[1;33m\u001b[0m\u001b[0m\n\u001b[0;32m    348\u001b[0m     \u001b[1;32mif\u001b[0m \u001b[1;32mnot\u001b[0m \u001b[0mfound\u001b[0m\u001b[1;33m:\u001b[0m\u001b[1;33m\u001b[0m\u001b[1;33m\u001b[0m\u001b[0m\n\u001b[1;32m--> 349\u001b[1;33m         raise ValueError(\"time data %r does not match format %r\" %\n\u001b[0m\u001b[0;32m    350\u001b[0m                          (data_string, format))\n\u001b[0;32m    351\u001b[0m     \u001b[1;32mif\u001b[0m \u001b[0mlen\u001b[0m\u001b[1;33m(\u001b[0m\u001b[0mdata_string\u001b[0m\u001b[1;33m)\u001b[0m \u001b[1;33m!=\u001b[0m \u001b[0mfound\u001b[0m\u001b[1;33m.\u001b[0m\u001b[0mend\u001b[0m\u001b[1;33m(\u001b[0m\u001b[1;33m)\u001b[0m\u001b[1;33m:\u001b[0m\u001b[1;33m\u001b[0m\u001b[1;33m\u001b[0m\u001b[0m\n",
      "\u001b[1;31mValueError\u001b[0m: time data '2023' does not match format '%d-%m-%Y'"
     ]
    }
   ],
   "source": [
    "import os\n",
    "from datetime import datetime\n",
    "\n",
    "# Set the directories\n",
    "old_directory = \"reports_old\"\n",
    "new_directory = \"reports_new\"\n",
    "\n",
    "# Create the new directory if it doesn't exist\n",
    "if not os.path.exists(new_directory):\n",
    "    os.makedirs(new_directory)\n",
    "\n",
    "# Iterate over the files in the old directory\n",
    "for filename in os.listdir(old_directory):\n",
    "    # Check if the file is a text file and starts with 'TPS-REPORT-'\n",
    "    if filename.endswith(\".txt\") and filename.startswith(\"TPS-REPORT-\"):\n",
    "        # Get the original date from the filename\n",
    "        date_str = filename.split(\"-\")[-1].split(\".\")[0]\n",
    "        \n",
    "        # Convert the original date to a datetime object\n",
    "        date_obj = datetime.strptime(date_str, \"%d-%m-%Y\")\n",
    "        \n",
    "        # Create the new filename with the new date format\n",
    "        new_date_str = date_obj.strftime(\"%d-%m-%Y\")\n",
    "        new_filename = \"TPS-REPORT-\" + new_date_str + \".txt\"\n",
    "        \n",
    "        # Create the full paths to the old and new files\n",
    "        old_path = os.path.join(old_directory, filename)\n",
    "        new_path = os.path.join(new_directory, new_filename)\n",
    "        \n",
    "        # Move the file to the new directory with the new filename\n",
    "        os.rename(old_path, new_path)"
   ]
  },
  {
   "cell_type": "code",
   "execution_count": 30,
   "id": "cc19c5b2",
   "metadata": {},
   "outputs": [
    {
     "name": "stdout",
     "output_type": "stream",
     "text": [
      "TPS-REPORT-01-Oct-2021.txt\n",
      "01-Oct-2021\n"
     ]
    }
   ],
   "source": [
    "file_name = 'TPS-REPORT-01-Oct-2021.txt'\n",
    "print(file_name)\n",
    "file_name = file_name.replace(\"TPS-REPORT-\", \"\")\n",
    "file_name = file_name.replace(\".txt\", \"\")\n",
    "#date_str = filename.split(\"-\")[2]\n",
    "print(file_name)"
   ]
  },
  {
   "cell_type": "code",
   "execution_count": null,
   "id": "6add1b0e",
   "metadata": {},
   "outputs": [],
   "source": []
  },
  {
   "cell_type": "code",
   "execution_count": null,
   "id": "63b6d136",
   "metadata": {},
   "outputs": [],
   "source": []
  },
  {
   "cell_type": "code",
   "execution_count": null,
   "id": "7470a19b",
   "metadata": {},
   "outputs": [],
   "source": []
  },
  {
   "cell_type": "markdown",
   "id": "f5775e4b",
   "metadata": {},
   "source": [
    "## Working with strings"
   ]
  },
  {
   "cell_type": "markdown",
   "id": "e3300752",
   "metadata": {},
   "source": [
    "### Moving characters in a string\n",
    "In the example below we move the first 5 characters in a string to the end of the string. \"[5:]\" gets the first 5 while [:5] tells python where to put those 5 characters."
   ]
  },
  {
   "cell_type": "code",
   "execution_count": null,
   "id": "8eeb8fe0",
   "metadata": {},
   "outputs": [],
   "source": [
    "string = \"1984 A good year was \"\n",
    "if len(string) < 5:\n",
    "    print(\"Error: String must have at least 5 characters\")\n",
    "else:\n",
    "    new_string = string[5:] + string[:5]\n",
    "    print(new_string)"
   ]
  },
  {
   "cell_type": "markdown",
   "id": "18b6d07b",
   "metadata": {},
   "source": [
    "### Adding parentheses around four digit numbers\n",
    "At some point we may have a situation where we know any four number digits in a string represents a year, and we want to wrap the year in parentheses.  \n",
    "\n",
    "We can do this with \"re\" regular explressions to finid the pattern, then iterate over the string to add the parentheses."
   ]
  },
  {
   "cell_type": "code",
   "execution_count": null,
   "id": "6b8d5d9e",
   "metadata": {},
   "outputs": [],
   "source": [
    "import re\n",
    "\n",
    "def add_parentheses(string):\n",
    "    pattern = r\"\\d{4}\"  # regular expression pattern to match four digit numbers\n",
    "    matches = re.findall(pattern, string)  # find all matches in the string\n",
    "    \n",
    "    # iterate over matches and replace them with the same value, but with parentheses added\n",
    "    for match in matches:\n",
    "        string = string.replace(match, f\"({match})\")\n",
    "        \n",
    "    return string"
   ]
  },
  {
   "cell_type": "markdown",
   "id": "ed355766",
   "metadata": {},
   "source": [
    "We can then call the \"add_parenteses\" function we need to modify."
   ]
  },
  {
   "cell_type": "code",
   "execution_count": null,
   "id": "4d66ac76",
   "metadata": {},
   "outputs": [],
   "source": [
    "original_string = \"A Fist full of Dollars 1964\"\n",
    "modified_string = add_parentheses(original_string)\n",
    "print(modified_string)  "
   ]
  },
  {
   "cell_type": "markdown",
   "id": "0c1fbb49",
   "metadata": {},
   "source": [
    "## Python Operators"
   ]
  },
  {
   "cell_type": "code",
   "execution_count": null,
   "id": "e797b494",
   "metadata": {},
   "outputs": [],
   "source": []
  },
  {
   "cell_type": "code",
   "execution_count": null,
   "id": "3d2b80fa",
   "metadata": {},
   "outputs": [],
   "source": []
  },
  {
   "cell_type": "code",
   "execution_count": null,
   "id": "5c6fdff5",
   "metadata": {},
   "outputs": [],
   "source": []
  },
  {
   "cell_type": "markdown",
   "id": "d689d16e",
   "metadata": {},
   "source": [
    "## Measure execution time in Python script"
   ]
  },
  {
   "cell_type": "code",
   "execution_count": null,
   "id": "fb0392c0",
   "metadata": {},
   "outputs": [],
   "source": []
  },
  {
   "cell_type": "code",
   "execution_count": null,
   "id": "74597e05",
   "metadata": {},
   "outputs": [],
   "source": []
  }
 ],
 "metadata": {
  "kernelspec": {
   "display_name": "Python 3 (ipykernel)",
   "language": "python",
   "name": "python3"
  },
  "language_info": {
   "codemirror_mode": {
    "name": "ipython",
    "version": 3
   },
   "file_extension": ".py",
   "mimetype": "text/x-python",
   "name": "python",
   "nbconvert_exporter": "python",
   "pygments_lexer": "ipython3",
   "version": "3.9.13"
  }
 },
 "nbformat": 4,
 "nbformat_minor": 5
}
